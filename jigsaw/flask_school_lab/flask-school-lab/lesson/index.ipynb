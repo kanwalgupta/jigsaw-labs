{
 "cells": [
  {
   "cell_type": "markdown",
   "id": "c7d64b7e-5d4b-49c8-8992-038d8c0acc95",
   "metadata": {},
   "source": [
    "# Flask School Lab"
   ]
  },
  {
   "cell_type": "markdown",
   "id": "16e1c9ac-bc6e-4186-a601-058b27f65263",
   "metadata": {},
   "source": [
    "### Introduction"
   ]
  },
  {
   "cell_type": "markdown",
   "id": "530f2894-14a9-44ff-83de-ae80d710236d",
   "metadata": {},
   "source": [
    "In this lesson, build a flask backend api from scratch."
   ]
  },
  {
   "cell_type": "markdown",
   "id": "852a59c6-37c7-44a1-a2bf-5da2ba72f017",
   "metadata": {},
   "source": [
    "### Getting started"
   ]
  },
  {
   "cell_type": "markdown",
   "id": "aec12245-706a-408d-9115-4809c310c230",
   "metadata": {},
   "source": [
    "First create a new database called `school_db`.  Then *from the `code` directory, run the following:"
   ]
  },
  {
   "cell_type": "markdown",
   "id": "6620064f-baa4-4f8b-acc9-b83ffeadf105",
   "metadata": {},
   "source": [
    "`psql -d school_db -f migrations/create_tables.sql`"
   ]
  },
  {
   "cell_type": "markdown",
   "id": "59dc7a3c-1279-4927-afd6-d102c971945f",
   "metadata": {},
   "source": [
    "If you look at the `create_tables.sql` file, you'll see that this does create related tables, as well as populate some initial data.  Now build out a flask application, that returns data from the specified routes.\n",
    "\n",
    "You can provide as much or as little structure to the code as you like (eg. .env file, `create_app`, tests), but we recommend first getting some of it to simply work, and then refactoring."
   ]
  },
  {
   "cell_type": "code",
   "execution_count": null,
   "id": "52fea99b-30d8-45d9-9520-cdd53161a126",
   "metadata": {},
   "outputs": [],
   "source": []
  }
 ],
 "metadata": {
  "kernelspec": {
   "display_name": "Python 3 (ipykernel)",
   "language": "python",
   "name": "python3"
  },
  "language_info": {
   "codemirror_mode": {
    "name": "ipython",
    "version": 3
   },
   "file_extension": ".py",
   "mimetype": "text/x-python",
   "name": "python",
   "nbconvert_exporter": "python",
   "pygments_lexer": "ipython3",
   "version": "3.9.12"
  }
 },
 "nbformat": 4,
 "nbformat_minor": 5
}
