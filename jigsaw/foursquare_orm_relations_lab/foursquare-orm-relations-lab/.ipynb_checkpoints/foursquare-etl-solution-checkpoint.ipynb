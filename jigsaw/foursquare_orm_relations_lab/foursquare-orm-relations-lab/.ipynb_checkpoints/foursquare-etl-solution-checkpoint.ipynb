{
 "cells": [
  {
   "cell_type": "markdown",
   "metadata": {},
   "source": [
    "# Foursquare ETL"
   ]
  },
  {
   "cell_type": "markdown",
   "metadata": {},
   "source": [
    "### Introduction"
   ]
  },
  {
   "cell_type": "markdown",
   "metadata": {},
   "source": [
    "In this lesson, let's use the Foursquare API to practice the ETL pattern.  We can also use it to practice the refactoring process."
   ]
  },
  {
   "cell_type": "markdown",
   "metadata": {},
   "source": [
    "### Back to Foursquare"
   ]
  },
  {
   "cell_type": "markdown",
   "metadata": {},
   "source": [
    "1. Starting with our previous code"
   ]
  },
  {
   "cell_type": "code",
   "execution_count": 177,
   "metadata": {},
   "outputs": [],
   "source": [
    "import requests \n",
    "\n",
    "def venue_search(query_params = {'ll': \"40.7,-74\", \"query\": \"tacos\"}):\n",
    "    client_id = \"ALECV5CBBEHRRKTIQ5ZV143YEXOH3SBLAMU54SPHKGZI1ZKE\"\n",
    "    client_secret = \"3JX3NRGRS2P0KE0NSKPTMCOZOY4MWUU4M3G33BO4XTRJ15SM\"\n",
    "    date = \"20190407\"\n",
    "    \n",
    "    auth_params = {'client_id': client_id, \n",
    "               'client_secret': client_secret,\n",
    "               'v': date}\n",
    "    params = auth_params.copy()\n",
    "    params.update(query_params)\n",
    "    url = \"https://api.foursquare.com/v2/venues/search\"\n",
    "    response = requests.get(url, params)\n",
    "    return response.json()['response']['venues']"
   ]
  },
  {
   "cell_type": "code",
   "execution_count": 179,
   "metadata": {},
   "outputs": [],
   "source": [
    "venues_from_api = venue_search()"
   ]
  },
  {
   "cell_type": "code",
   "execution_count": 181,
   "metadata": {},
   "outputs": [
    {
     "data": {
      "text/plain": [
       "[{'id': '5b2932a0f5e9d70039787cf2',\n",
       "  'name': 'Los Tacos Al Pastor',\n",
       "  'location': {'address': '141 Front St',\n",
       "   'lat': 40.70243624175102,\n",
       "   'lng': -73.98753900608666,\n",
       "   'labeledLatLngs': [{'label': 'display',\n",
       "     'lat': 40.70243624175102,\n",
       "     'lng': -73.98753900608666}],\n",
       "   'distance': 1086,\n",
       "   'postalCode': '11201',\n",
       "   'cc': 'US',\n",
       "   'neighborhood': 'DUMBO',\n",
       "   'city': 'New York',\n",
       "   'state': 'NY',\n",
       "   'country': 'United States',\n",
       "   'formattedAddress': ['141 Front St',\n",
       "    'New York, NY 11201',\n",
       "    'United States']},\n",
       "  'categories': [{'id': '4bf58dd8d48988d151941735',\n",
       "    'name': 'Taco Place',\n",
       "    'pluralName': 'Taco Places',\n",
       "    'shortName': 'Tacos',\n",
       "    'icon': {'prefix': 'https://ss3.4sqi.net/img/categories_v2/food/taco_',\n",
       "     'suffix': '.png'},\n",
       "    'primary': True}],\n",
       "  'delivery': {'id': '857049',\n",
       "   'url': 'https://www.seamless.com/menu/los-tacos-al-pastor-141a-front-st-brooklyn/857049?affiliate=1131&utm_source=foursquare-affiliate-network&utm_medium=affiliate&utm_campaign=1131&utm_content=857049',\n",
       "   'provider': {'name': 'seamless',\n",
       "    'icon': {'prefix': 'https://fastly.4sqi.net/img/general/cap/',\n",
       "     'sizes': [40, 50],\n",
       "     'name': '/delivery_provider_seamless_20180129.png'}}},\n",
       "  'referralId': 'v-1582061946',\n",
       "  'hasPerk': False},\n",
       " {'id': '542f62bc498ee31baa1395cb',\n",
       "  'name': \"Rocco's Tacos and Tequila Bar Brooklyn\",\n",
       "  'location': {'address': '339 Adams St',\n",
       "   'lat': 40.693277341475834,\n",
       "   'lng': -73.98868115958473,\n",
       "   'labeledLatLngs': [{'label': 'display',\n",
       "     'lat': 40.693277341475834,\n",
       "     'lng': -73.98868115958473}],\n",
       "   'distance': 1213,\n",
       "   'postalCode': '11201',\n",
       "   'cc': 'US',\n",
       "   'city': 'Brooklyn',\n",
       "   'state': 'NY',\n",
       "   'country': 'United States',\n",
       "   'formattedAddress': ['339 Adams St',\n",
       "    'Brooklyn, NY 11201',\n",
       "    'United States']},\n",
       "  'categories': [{'id': '4bf58dd8d48988d1c1941735',\n",
       "    'name': 'Mexican Restaurant',\n",
       "    'pluralName': 'Mexican Restaurants',\n",
       "    'shortName': 'Mexican',\n",
       "    'icon': {'prefix': 'https://ss3.4sqi.net/img/categories_v2/food/mexican_',\n",
       "     'suffix': '.png'},\n",
       "    'primary': True}],\n",
       "  'delivery': {'id': '305535',\n",
       "   'url': 'https://www.seamless.com/menu/roccos-tacos-339-adams-street-brooklyn/305535?affiliate=1131&utm_source=foursquare-affiliate-network&utm_medium=affiliate&utm_campaign=1131&utm_content=305535',\n",
       "   'provider': {'name': 'seamless',\n",
       "    'icon': {'prefix': 'https://fastly.4sqi.net/img/general/cap/',\n",
       "     'sizes': [40, 50],\n",
       "     'name': '/delivery_provider_seamless_20180129.png'}}},\n",
       "  'referralId': 'v-1582061946',\n",
       "  'hasPerk': False}]"
      ]
     },
     "execution_count": 181,
     "metadata": {},
     "output_type": "execute_result"
    }
   ],
   "source": [
    "venues_from_api[:2]"
   ]
  },
  {
   "cell_type": "code",
   "execution_count": 31,
   "metadata": {},
   "outputs": [
    {
     "data": {
      "text/plain": [
       "{'id': '5b2932a0f5e9d70039787cf2',\n",
       " 'name': 'Los Tacos Al Pastor',\n",
       " 'location': {'address': '141 Front St',\n",
       "  'lat': 40.70243624175102,\n",
       "  'lng': -73.98753900608666,\n",
       "  'labeledLatLngs': [{'label': 'display',\n",
       "    'lat': 40.70243624175102,\n",
       "    'lng': -73.98753900608666}],\n",
       "  'distance': 1086,\n",
       "  'postalCode': '11201',\n",
       "  'cc': 'US',\n",
       "  'neighborhood': 'DUMBO',\n",
       "  'city': 'New York',\n",
       "  'state': 'NY',\n",
       "  'country': 'United States',\n",
       "  'formattedAddress': ['141 Front St', 'New York, NY 11201', 'United States']},\n",
       " 'categories': [{'id': '4bf58dd8d48988d151941735',\n",
       "   'name': 'Taco Place',\n",
       "   'pluralName': 'Taco Places',\n",
       "   'shortName': 'Tacos',\n",
       "   'icon': {'prefix': 'https://ss3.4sqi.net/img/categories_v2/food/taco_',\n",
       "    'suffix': '.png'},\n",
       "   'primary': True}],\n",
       " 'delivery': {'id': '857049',\n",
       "  'url': 'https://www.seamless.com/menu/los-tacos-al-pastor-141a-front-st-brooklyn/857049?affiliate=1131&utm_source=foursquare-affiliate-network&utm_medium=affiliate&utm_campaign=1131&utm_content=857049',\n",
       "  'provider': {'name': 'seamless',\n",
       "   'icon': {'prefix': 'https://fastly.4sqi.net/img/general/cap/',\n",
       "    'sizes': [40, 50],\n",
       "    'name': '/delivery_provider_seamless_20180129.png'}}},\n",
       " 'referralId': 'v-1582055928',\n",
       " 'hasPerk': False}"
      ]
     },
     "execution_count": 31,
     "metadata": {},
     "output_type": "execute_result"
    }
   ],
   "source": [
    "venue_from_api = venues_from_api[0]\n",
    "venue_from_api"
   ]
  },
  {
   "cell_type": "markdown",
   "metadata": {},
   "source": [
    "### Creating Venues"
   ]
  },
  {
   "cell_type": "markdown",
   "metadata": {},
   "source": [
    "Let's start by creating a class that allows us to build venue instances.  We should enforce initializing each venue with a `name`, `id`, `longitude` and `latitude`. "
   ]
  },
  {
   "cell_type": "code",
   "execution_count": 120,
   "metadata": {},
   "outputs": [],
   "source": [
    "class Venue:\n",
    "    def __init__(self, id, name, longitude, latitude, category = None, zip_code = None):\n",
    "        self.id = id\n",
    "        self.name = name\n",
    "        self.longitude = longitude\n",
    "        self.latitude = latitude\n",
    "        self.zip_code = zip_code\n",
    "        self.category = category"
   ]
  },
  {
   "cell_type": "markdown",
   "metadata": {},
   "source": [
    "Next, loop through the list of venues to create a list of venue instances.  The resulting list should be assigned to a variable called `venues`."
   ]
  },
  {
   "cell_type": "code",
   "execution_count": 34,
   "metadata": {},
   "outputs": [],
   "source": [
    "venues = []\n",
    "for venue_from_api in venues_from_api:\n",
    "    venue_id = venue_from_api['id']\n",
    "    venue_name = venue_from_api['name']\n",
    "    lat = venue_from_api['location']['lat']\n",
    "    long = venue_from_api['location']['lng']\n",
    "    venues.append(Venue(id = venue_id, name = venue_name, latitude = lat, longitude = long))"
   ]
  },
  {
   "cell_type": "code",
   "execution_count": 38,
   "metadata": {},
   "outputs": [
    {
     "data": {
      "text/plain": [
       "30"
      ]
     },
     "execution_count": 38,
     "metadata": {},
     "output_type": "execute_result"
    }
   ],
   "source": [
    "len(venues)"
   ]
  },
  {
   "cell_type": "markdown",
   "metadata": {},
   "source": [
    "We can look at the attributes of the first four venues."
   ]
  },
  {
   "cell_type": "code",
   "execution_count": 41,
   "metadata": {},
   "outputs": [
    {
     "data": {
      "text/plain": [
       "[{'id': '5b2932a0f5e9d70039787cf2',\n",
       "  'name': 'Los Tacos Al Pastor',\n",
       "  'longitude': -73.98753900608666,\n",
       "  'latitude': 40.70243624175102},\n",
       " {'id': '542f62bc498ee31baa1395cb',\n",
       "  'name': \"Rocco's Tacos and Tequila Bar Brooklyn\",\n",
       "  'longitude': -73.98868115958473,\n",
       "  'latitude': 40.693277341475834},\n",
       " {'id': '5196b9ff498e8a6be4336a03',\n",
       "  'name': 'Los Tacos No. 1',\n",
       "  'longitude': -74.00596115738153,\n",
       "  'latitude': 40.74224400629671},\n",
       " {'id': '5d5f24ec09484500079aee00',\n",
       "  'name': 'Los Tacos No. 1',\n",
       "  'longitude': -74.008756,\n",
       "  'latitude': 40.714267}]"
      ]
     },
     "execution_count": 41,
     "metadata": {},
     "output_type": "execute_result"
    }
   ],
   "source": [
    "[venue.__dict__ for venue in venues[:4]]\n",
    "# [{'id': '5b2932a0f5e9d70039787cf2',\n",
    "#   'name': 'Los Tacos Al Pastor',\n",
    "#   'longitude': -73.98753900608666,\n",
    "#   'latitude': 40.70243624175102},\n",
    "#  {'id': '542f62bc498ee31baa1395cb',\n",
    "#   'name': \"Rocco's Tacos and Tequila Bar Brooklyn\",\n",
    "#   'longitude': -73.98868115958473,\n",
    "#   'latitude': 40.693277341475834},\n",
    "#  {'id': '5196b9ff498e8a6be4336a03',\n",
    "#   'name': 'Los Tacos No. 1',\n",
    "#   'longitude': -74.00596115738153,\n",
    "#   'latitude': 40.74224400629671},\n",
    "#  {'id': '5d5f24ec09484500079aee00',\n",
    "#   'name': 'Los Tacos No. 1',\n",
    "#   'longitude': -74.008756,\n",
    "#   'latitude': 40.714267}]"
   ]
  },
  {
   "cell_type": "markdown",
   "metadata": {},
   "source": [
    "Let's copy and paste our loop from above, but this time, also add the attributes of a venue's neighborhod, zipcode, and the first `category` of the venue (use the short name from category).  We'll let you choose precisely how to accomplish this, but one way would be to change the `__init__` method to assign more attributes."
   ]
  },
  {
   "cell_type": "markdown",
   "metadata": {},
   "source": [
    "> Not all venues will be assigned a postal code, so you will get a key error.  See how you can use a dictionary's `.get` method to avoid this."
   ]
  },
  {
   "cell_type": "code",
   "execution_count": 51,
   "metadata": {},
   "outputs": [],
   "source": [
    "venues = []\n",
    "for venue_from_api in venues_from_api:\n",
    "    venue_id = venue_from_api['id']\n",
    "    venue_name = venue_from_api['name']\n",
    "    lat = venue_from_api['location']['lat']\n",
    "    long = venue_from_api['location']['lng']\n",
    "    venue = Venue(id = venue_id, name = venue_name, latitude = lat, longitude = long)\n",
    "    category = venue_from_api['categories'][0]['shortName']\n",
    "    zip_code = venue_from_api['location'].get('postalCode')\n",
    "    venue.zip_code = zip_code\n",
    "    venue.category = category\n",
    "    venues.append(venue)"
   ]
  },
  {
   "cell_type": "code",
   "execution_count": 52,
   "metadata": {},
   "outputs": [
    {
     "data": {
      "text/plain": [
       "[<__main__.Venue at 0x10bb450d0>,\n",
       " <__main__.Venue at 0x10bb45110>,\n",
       " <__main__.Venue at 0x10bb45150>]"
      ]
     },
     "execution_count": 52,
     "metadata": {},
     "output_type": "execute_result"
    }
   ],
   "source": [
    "venues[:3]"
   ]
  },
  {
   "cell_type": "markdown",
   "metadata": {},
   "source": [
    "### Working On Venue Builder"
   ]
  },
  {
   "cell_type": "markdown",
   "metadata": {},
   "source": [
    "Now that we have gotten the functionality working it's time to refactor the code.  Let's begin by moving our code into a class called `VenuesBuilder`."
   ]
  },
  {
   "cell_type": "code",
   "execution_count": 164,
   "metadata": {},
   "outputs": [],
   "source": [
    "class VenuesBuilder:\n",
    "    def __init__(self, venues_data):\n",
    "        self.venues_data = venues_data \n",
    "        \n",
    "    def extract_data(self, venue_data):\n",
    "        venue_id = venue_data['id']\n",
    "        name = venue_data['name']\n",
    "        lat = venue_data['location']['lat']\n",
    "        long = venue_data['location']['lng']\n",
    "        zip_code = venue_data['location'].get('postalCode')\n",
    "        category = venue_data['categories'][0]['shortName']\n",
    "        return {'name': name, 'category': category, 'id': venue_id, \n",
    "         'latitude': lat, \n",
    "         'longitude': long, \n",
    "         'zip_code': zip_code, 'category': category}\n",
    "        \n",
    "    def run(self):\n",
    "        venues = []\n",
    "        for venue_data in self.venues_data:\n",
    "            selected_venue_data = self.extract_data(venue_data)\n",
    "            venue = Venue(**selected_venue_data)\n",
    "            venues.append(venue)\n",
    "        return venues"
   ]
  },
  {
   "cell_type": "markdown",
   "metadata": {},
   "source": [
    "Begin by adding an `init` function that ensures the VenuesBuilder is initialized with a list of dictionaries from the API.  The data should be stored as `venues_data` on the instance."
   ]
  },
  {
   "cell_type": "code",
   "execution_count": 133,
   "metadata": {},
   "outputs": [],
   "source": [
    "venues_from_api = venue_search(auth, params)"
   ]
  },
  {
   "cell_type": "code",
   "execution_count": 126,
   "metadata": {},
   "outputs": [],
   "source": [
    "builder = VenuesBuilder(venues_from_api)"
   ]
  },
  {
   "cell_type": "code",
   "execution_count": 127,
   "metadata": {},
   "outputs": [
    {
     "data": {
      "text/plain": [
       "30"
      ]
     },
     "execution_count": 127,
     "metadata": {},
     "output_type": "execute_result"
    }
   ],
   "source": [
    "len(builder.venues_data)\n",
    "# 30"
   ]
  },
  {
   "cell_type": "code",
   "execution_count": 128,
   "metadata": {},
   "outputs": [],
   "source": [
    "# builder.venues_data[0]\n",
    "\n",
    "# {'id': '5b2932a0f5e9d70039787cf2',\n",
    "#  'name': 'Los Tacos Al Pastor',\n",
    "#  'location': {'address': '141 Front St',\n",
    "#   'lat': 40.70243624175102,\n",
    "#   'lng': -73.98753900608666,\n",
    "#   'labeledLatLngs': [{'label': 'disp"
   ]
  },
  {
   "cell_type": "markdown",
   "metadata": {},
   "source": [
    "Next copy the code that loops through the data and constructs venues into a function called run.  This time, it should loop through the data in the `venues_data`  and return a list of `Venue` instances. "
   ]
  },
  {
   "cell_type": "code",
   "execution_count": 153,
   "metadata": {},
   "outputs": [],
   "source": [
    "# venues_from_api[:2]"
   ]
  },
  {
   "cell_type": "code",
   "execution_count": 139,
   "metadata": {},
   "outputs": [],
   "source": [
    "builder = VenuesBuilder(venues_from_api)"
   ]
  },
  {
   "cell_type": "code",
   "execution_count": 140,
   "metadata": {},
   "outputs": [],
   "source": [
    "venue_instances = builder.run()"
   ]
  },
  {
   "cell_type": "code",
   "execution_count": 141,
   "metadata": {},
   "outputs": [
    {
     "data": {
      "text/plain": [
       "[{'id': '4c1be969b306c928d1ff62b7',\n",
       "  'name': 'Tri Mexican Tacos Food Truck',\n",
       "  'longitude': -73.99009351837739,\n",
       "  'latitude': 40.73936348846878,\n",
       "  'zip_code': '10003',\n",
       "  'category': 'Food Truck'},\n",
       " {'id': '4c1be969b306c928d1ff62b7',\n",
       "  'name': 'Tri Mexican Tacos Food Truck',\n",
       "  'longitude': -73.99009351837739,\n",
       "  'latitude': 40.73936348846878,\n",
       "  'zip_code': '10003',\n",
       "  'category': 'Food Truck'},\n",
       " {'id': '4c1be969b306c928d1ff62b7',\n",
       "  'name': 'Tri Mexican Tacos Food Truck',\n",
       "  'longitude': -73.99009351837739,\n",
       "  'latitude': 40.73936348846878,\n",
       "  'zip_code': '10003',\n",
       "  'category': 'Food Truck'}]"
      ]
     },
     "execution_count": 141,
     "metadata": {},
     "output_type": "execute_result"
    }
   ],
   "source": [
    "[venue.__dict__ for venue in venue_instances[:3]]\n",
    "# [{'id': '5b2932a0f5e9d70039787cf2',\n",
    "#   'name': 'Los Tacos Al Pastor',\n",
    "#   'longitude': -73.98753900608666,\n",
    "#   'latitude': 40.70243624175102,\n",
    "#   'zip_code': '11201',\n",
    "#   'category': 'Tacos'},\n",
    "#  {'id': '542f62bc498ee31baa1395cb',\n",
    "#   'name': \"Rocco's Tacos and Tequila Bar Brooklyn\",\n",
    "#   'longitude': -73.98868115958473,\n",
    "#   'latitude': 40.693277341475834,\n",
    "#   'zip_code': '11201',\n",
    "#   'category': 'Mexican'},\n",
    "#  {'id': '5196b9ff498e8a6be4336a03',\n",
    "#   'name': 'Los Tacos No. 1',\n",
    "#   'longitude': -74.00596115738153,\n",
    "#   'latitude': 40.74224400629671,\n",
    "#   'zip_code': '10011',\n",
    "#   'category': 'Tacos'}]"
   ]
  },
  {
   "cell_type": "markdown",
   "metadata": {},
   "source": [
    "Now our run function is pretty long.  Move the contents of the four loop into two new functions.\n",
    "\n",
    "The first function is called extract data.  It should take a single venue from the API and just return a dictionary of the data that we want to use to build our instance:\n",
    "\n",
    "* id, name, latitude, longitude, zip_code, and category\n"
   ]
  },
  {
   "cell_type": "markdown",
   "metadata": {},
   "source": [
    "We can check out the function in isolation with the following."
   ]
  },
  {
   "cell_type": "code",
   "execution_count": 160,
   "metadata": {},
   "outputs": [],
   "source": [
    "# venues_from_api[:2]"
   ]
  },
  {
   "cell_type": "code",
   "execution_count": 165,
   "metadata": {},
   "outputs": [],
   "source": [
    "builder = VenuesBuilder(venues_from_api)"
   ]
  },
  {
   "cell_type": "code",
   "execution_count": 166,
   "metadata": {},
   "outputs": [],
   "source": [
    "first_venue_data = builder.venues_data[0]"
   ]
  },
  {
   "cell_type": "code",
   "execution_count": 167,
   "metadata": {},
   "outputs": [],
   "source": [
    "second_venue_data = builder.venues_data[1]"
   ]
  },
  {
   "cell_type": "code",
   "execution_count": 169,
   "metadata": {},
   "outputs": [
    {
     "data": {
      "text/plain": [
       "{'name': 'Los Tacos Al Pastor',\n",
       " 'category': 'Tacos',\n",
       " 'id': '5b2932a0f5e9d70039787cf2',\n",
       " 'latitude': 40.70243624175102,\n",
       " 'longitude': -73.98753900608666,\n",
       " 'zip_code': '11201'}"
      ]
     },
     "execution_count": 169,
     "metadata": {},
     "output_type": "execute_result"
    }
   ],
   "source": [
    "builder.extract_data(first_venue_data)\n",
    "# {'name': 'Los Tacos Al Pastor',\n",
    "#  'category': 'Tacos',\n",
    "#  'id': '5b2932a0f5e9d70039787cf2',\n",
    "#  'latitude': 40.70243624175102,\n",
    "#  'longitude': -73.98753900608666,\n",
    "#  'zip_code': '11201'}"
   ]
  },
  {
   "cell_type": "code",
   "execution_count": 171,
   "metadata": {},
   "outputs": [
    {
     "data": {
      "text/plain": [
       "{'name': \"Rocco's Tacos and Tequila Bar Brooklyn\",\n",
       " 'category': 'Mexican',\n",
       " 'id': '542f62bc498ee31baa1395cb',\n",
       " 'latitude': 40.693277341475834,\n",
       " 'longitude': -73.98868115958473,\n",
       " 'zip_code': '11201'}"
      ]
     },
     "execution_count": 171,
     "metadata": {},
     "output_type": "execute_result"
    }
   ],
   "source": [
    "builder.extract_data(second_venue_data)\n",
    "# {'name': \"Rocco's Tacos and Tequila Bar Brooklyn\",\n",
    "#  'category': 'Mexican',\n",
    "#  'id': '542f62bc498ee31baa1395cb',\n",
    "#  'latitude': 40.693277341475834,\n",
    "#  'longitude': -73.98868115958473,\n",
    "#  'zip_code': '11201'}"
   ]
  },
  {
   "cell_type": "markdown",
   "metadata": {},
   "source": [
    "But the `run` function should be using the function to extract the relevant data from each venue, and then to build a venue instance.\n",
    "\n",
    "> The output of our code should not have changed.  The difference is that now, our `run` function should be shorter."
   ]
  },
  {
   "cell_type": "code",
   "execution_count": 172,
   "metadata": {},
   "outputs": [],
   "source": [
    "builder = VenuesBuilder(venues_from_api)"
   ]
  },
  {
   "cell_type": "code",
   "execution_count": 173,
   "metadata": {},
   "outputs": [],
   "source": [
    "venues = builder.run()"
   ]
  },
  {
   "cell_type": "code",
   "execution_count": 174,
   "metadata": {},
   "outputs": [
    {
     "data": {
      "text/plain": [
       "[<__main__.Venue at 0x10d65ebd0>, <__main__.Venue at 0x10d65ea10>]"
      ]
     },
     "execution_count": 174,
     "metadata": {},
     "output_type": "execute_result"
    }
   ],
   "source": [
    "venues[:2]\n",
    "# [<__main__.Venue at 0x10d663810>, <__main__.Venue at 0x10d663610>]"
   ]
  },
  {
   "cell_type": "code",
   "execution_count": 175,
   "metadata": {},
   "outputs": [
    {
     "data": {
      "text/plain": [
       "[{'id': '5b2932a0f5e9d70039787cf2',\n",
       "  'name': 'Los Tacos Al Pastor',\n",
       "  'longitude': -73.98753900608666,\n",
       "  'latitude': 40.70243624175102,\n",
       "  'zip_code': '11201',\n",
       "  'category': 'Tacos'},\n",
       " {'id': '542f62bc498ee31baa1395cb',\n",
       "  'name': \"Rocco's Tacos and Tequila Bar Brooklyn\",\n",
       "  'longitude': -73.98868115958473,\n",
       "  'latitude': 40.693277341475834,\n",
       "  'zip_code': '11201',\n",
       "  'category': 'Mexican'},\n",
       " {'id': '5196b9ff498e8a6be4336a03',\n",
       "  'name': 'Los Tacos No. 1',\n",
       "  'longitude': -74.00596115738153,\n",
       "  'latitude': 40.74224400629671,\n",
       "  'zip_code': '10011',\n",
       "  'category': 'Tacos'}]"
      ]
     },
     "execution_count": 175,
     "metadata": {},
     "output_type": "execute_result"
    }
   ],
   "source": [
    "[venue.__dict__ for venue in venues[:3]]"
   ]
  },
  {
   "cell_type": "markdown",
   "metadata": {},
   "source": [
    "### Building a Client Class"
   ]
  },
  {
   "cell_type": "markdown",
   "metadata": {},
   "source": [
    "The code related to the API, that we provided for you up front should be in a class called Client.  As this is the code that directly works with the API."
   ]
  },
  {
   "cell_type": "code",
   "execution_count": 193,
   "metadata": {},
   "outputs": [],
   "source": [
    "import requests \n",
    "class Client: \n",
    "    def venue_search(query_params = {'ll': \"40.7,-74\", \"query\": \"tacos\"}):\n",
    "        client_id = \"ALECV5CBBEHRRKTIQ5ZV143YEXOH3SBLAMU54SPHKGZI1ZKE\"\n",
    "        client_secret = \"3JX3NRGRS2P0KE0NSKPTMCOZOY4MWUU4M3G33BO4XTRJ15SM\"\n",
    "        date = \"20190407\"\n",
    "        auth_params = {'client_id': client_id, \n",
    "                   'client_secret': client_secret,\n",
    "                   'v': date}\n",
    "        params = auth_params.copy()\n",
    "        params.update(query_params)\n",
    "        url = \"https://api.foursquare.com/v2/venues/search\"\n",
    "        response = requests.get(url, params)\n",
    "        return response.json()['response']['venues']"
   ]
  },
  {
   "cell_type": "markdown",
   "metadata": {},
   "source": [
    "Now there are different things we need to do to begin cleaning this up into a class.  The first step we did for you, as we moved the `import requests` to be outside of the class."
   ]
  },
  {
   "cell_type": "markdown",
   "metadata": {},
   "source": [
    "Next, we'll need to add an argument of `self` to each of our methods in the class (here there is only one)."
   ]
  },
  {
   "cell_type": "markdown",
   "metadata": {},
   "source": [
    "Ok, once that is done, let's start by initializing an instance of client, and calling the `venue_search` method."
   ]
  },
  {
   "cell_type": "code",
   "execution_count": 190,
   "metadata": {},
   "outputs": [],
   "source": [
    "client = Client()"
   ]
  },
  {
   "cell_type": "code",
   "execution_count": 192,
   "metadata": {},
   "outputs": [],
   "source": [
    "venues_data = client.venue_search()\n",
    "# [{'id': '5b2932a0f5e9d70039787cf2',\n",
    "#   'name': 'Los Tacos Al Pastor',\n",
    "#   'location': {'address': '141 Front St',\n",
    "#    'lat': 40.70243624175102,\n",
    "#    'lng': -73.98753900608666,\n",
    "#    'labeledLatLngs': [{'label': 'display',\n",
    "#      'lat': 40.70243624175102,\n",
    "#      'lng': -73.98753900608666}],"
   ]
  },
  {
   "cell_type": "markdown",
   "metadata": {},
   "source": [
    "> If you see an error that says client object is not iterable, it's because you forgot to add `self` as a venue_search method argument."
   ]
  },
  {
   "cell_type": "markdown",
   "metadata": {},
   "source": [
    "Now it's time to make this `venue_search` method smaller.  We'll let you figure out how best to refactor this method.  But begin by trying to comment out different steps or components of the function, then turn that comment into a new method.  The venue_search method should continue to return the same data."
   ]
  },
  {
   "cell_type": "code",
   "execution_count": null,
   "metadata": {},
   "outputs": [],
   "source": []
  }
 ],
 "metadata": {
  "kernelspec": {
   "display_name": "Python 3",
   "language": "python",
   "name": "python3"
  },
  "language_info": {
   "codemirror_mode": {
    "name": "ipython",
    "version": 3
   },
   "file_extension": ".py",
   "mimetype": "text/x-python",
   "name": "python",
   "nbconvert_exporter": "python",
   "pygments_lexer": "ipython3",
   "version": "3.7.4"
  }
 },
 "nbformat": 4,
 "nbformat_minor": 4
}
