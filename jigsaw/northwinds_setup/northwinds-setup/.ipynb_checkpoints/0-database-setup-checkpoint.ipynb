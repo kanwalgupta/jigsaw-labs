{
 "cells": [
  {
   "cell_type": "markdown",
   "id": "7992149f-ad63-4782-89dc-75314dfbcf03",
   "metadata": {},
   "source": [
    "# Database Setup"
   ]
  },
  {
   "cell_type": "markdown",
   "id": "48408546-d10c-4ec0-a583-9ffed5bcdd29",
   "metadata": {},
   "source": [
    "### Introduction"
   ]
  },
  {
   "cell_type": "markdown",
   "id": "03f26311-fc6d-4593-82b5-60538cbcd7dc",
   "metadata": {},
   "source": [
    "In the lessons that follow, we'll be using the northwinds database to perform our transformations."
   ]
  },
  {
   "cell_type": "code",
   "execution_count": null,
   "id": "a7917b4f-9d2e-4ddf-b90d-420850033cb1",
   "metadata": {},
   "outputs": [],
   "source": []
  }
 ],
 "metadata": {
  "kernelspec": {
   "display_name": "Python 3 (ipykernel)",
   "language": "python",
   "name": "python3"
  },
  "language_info": {
   "codemirror_mode": {
    "name": "ipython",
    "version": 3
   },
   "file_extension": ".py",
   "mimetype": "text/x-python",
   "name": "python",
   "nbconvert_exporter": "python",
   "pygments_lexer": "ipython3",
   "version": "3.9.12"
  }
 },
 "nbformat": 4,
 "nbformat_minor": 5
}
