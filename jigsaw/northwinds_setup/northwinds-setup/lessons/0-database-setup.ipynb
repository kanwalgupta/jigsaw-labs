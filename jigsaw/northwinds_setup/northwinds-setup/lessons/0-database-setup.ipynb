{
 "cells": [
  {
   "cell_type": "markdown",
   "id": "7992149f-ad63-4782-89dc-75314dfbcf03",
   "metadata": {},
   "source": [
    "# Database Setup"
   ]
  },
  {
   "cell_type": "markdown",
   "id": "48408546-d10c-4ec0-a583-9ffed5bcdd29",
   "metadata": {},
   "source": [
    "### Introduction"
   ]
  },
  {
   "cell_type": "markdown",
   "id": "03f26311-fc6d-4593-82b5-60538cbcd7dc",
   "metadata": {},
   "source": [
    "In the lessons that follow, we'll be using the northwinds database to perform our transformations."
   ]
  },
  {
   "cell_type": "markdown",
   "id": "7ab845ae-fee3-4e98-925b-9930841bb50c",
   "metadata": {},
   "source": [
    "### Setting up"
   ]
  },
  {
   "cell_type": "markdown",
   "id": "e0b9e672-57c0-4951-bdb0-bfb10cc95bb1",
   "metadata": {},
   "source": [
    "As a first step, get set up by cloning this repository (if you haven't already), and then `cd` into the codebase directory.  There you will a `northwinds.sql` file which will create all of the tables for our database.  \n",
    "\n",
    "But before we get into that, we first need to create our northwinds database.  Let's do that now."
   ]
  },
  {
   "cell_type": "markdown",
   "id": "7e9f0aec-4929-408f-b2f9-6650c5d66232",
   "metadata": {},
   "source": [
    "First, connect to postgres by typing `psql` in your terminal.  Then create the northwinds database.\n",
    "\n",
    "```sql\n",
    "create database northwinds;\n",
    "```"
   ]
  },
  {
   "cell_type": "markdown",
   "id": "964cbdaf-4855-4d89-953a-da8a86298b56",
   "metadata": {
    "tags": []
   },
   "source": [
    "Next, log out of postgres, to get back into bash.  \n",
    "\n",
    "`\\q`"
   ]
  },
  {
   "cell_type": "markdown",
   "id": "3d343d36-2dc9-416b-a0e8-147ba5089c03",
   "metadata": {},
   "source": [
    "Then let's run our `northwinds.sql` file against our new database."
   ]
  },
  {
   "cell_type": "markdown",
   "id": "1e407744-6ec7-40fa-9e2d-8d3f354c0b5c",
   "metadata": {},
   "source": [
    "```sql\n",
    "psql -d northwinds_sample -f northwinds.sql\n",
    "```"
   ]
  },
  {
   "cell_type": "markdown",
   "id": "dcc7e998-10a7-4966-b69e-4416fe23731b",
   "metadata": {},
   "source": [
    "Then let's confirm that it ran successfully -- created and inserted in our data."
   ]
  },
  {
   "cell_type": "markdown",
   "id": "84173d15-b126-46c5-a238-eaeb0f7bc1b2",
   "metadata": {},
   "source": [
    "```bash\n",
    "psql -d northwinds\n",
    "```"
   ]
  },
  {
   "cell_type": "markdown",
   "id": "96a16a68-6334-4d2d-94b6-84a9183bae6f",
   "metadata": {},
   "source": [
    "And from there, we can confirm that the we have created our tables."
   ]
  },
  {
   "cell_type": "markdown",
   "id": "8399cb4d-fa20-4a14-8089-3efe17b6b467",
   "metadata": {},
   "source": [
    "```sql\n",
    "\\dt\n",
    "```"
   ]
  },
  {
   "cell_type": "markdown",
   "id": "e31ac865-c6c1-4634-962e-f451d6747bba",
   "metadata": {},
   "source": [
    "<img src=\"./northwinds-tables.png\" width=\"60%\">"
   ]
  },
  {
   "cell_type": "markdown",
   "id": "d02b5f16-ce4a-4be7-a906-a02af3abc857",
   "metadata": {},
   "source": [
    "And also confirm that these tables have data."
   ]
  },
  {
   "cell_type": "markdown",
   "id": "6d0fc293-4b34-46bd-9388-b5a2e1a041dd",
   "metadata": {},
   "source": [
    "```sql\n",
    "select * from customers limit 3;\n",
    "```"
   ]
  },
  {
   "cell_type": "markdown",
   "id": "dcaacbda-c68f-422b-bbe8-d033b4f70080",
   "metadata": {},
   "source": [
    "<img src=\"./northwinds-customers.png\">"
   ]
  },
  {
   "cell_type": "markdown",
   "id": "a4f438d7-b35f-4033-a9ba-5797b3faad64",
   "metadata": {},
   "source": [
    "### Summary"
   ]
  },
  {
   "cell_type": "markdown",
   "id": "bfe88d23-a6dc-48da-a9b1-7c0186d08172",
   "metadata": {},
   "source": [
    "Ok!  We now have loaded in data which will serve as our OLTP.  From here, we can set up DBT to connect it to the database."
   ]
  },
  {
   "cell_type": "code",
   "execution_count": null,
   "id": "155fd8e5-ebd4-4367-87b0-3911cf01a5e8",
   "metadata": {},
   "outputs": [],
   "source": []
  }
 ],
 "metadata": {
  "kernelspec": {
   "display_name": "Python 3 (ipykernel)",
   "language": "python",
   "name": "python3"
  },
  "language_info": {
   "codemirror_mode": {
    "name": "ipython",
    "version": 3
   },
   "file_extension": ".py",
   "mimetype": "text/x-python",
   "name": "python",
   "nbconvert_exporter": "python",
   "pygments_lexer": "ipython3",
   "version": "3.10.13"
  }
 },
 "nbformat": 4,
 "nbformat_minor": 5
}
