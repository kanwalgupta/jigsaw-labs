{
 "cells": [
  {
   "cell_type": "markdown",
   "id": "b13a84d5-b80c-4500-bac0-83e649dc893a",
   "metadata": {},
   "source": [
    "# Setting up DBT Core"
   ]
  },
  {
   "cell_type": "markdown",
   "id": "24b2575f-5384-41b6-b845-12b467e3923b",
   "metadata": {},
   "source": [
    "#### Introduction"
   ]
  },
  {
   "cell_type": "markdown",
   "id": "ea910c86-b5e0-4f02-9914-9398f8259e46",
   "metadata": {},
   "source": [
    "In this lesson, we'll see how to set up DBT core.  As we know DBT allows us to bring the best practices of software engineering to our analytical projects:\n",
    "\n",
    "* A Github workflow\n",
    "* A centralized repository shared between the team\n",
    "* A modular codebase, to avoid repetition between codebase\n",
    "* Testing\n",
    "\n",
    "Now we can operate DBT either through DBT cloud or DBT core.  With DBT cloud we signup on the DBT website, and it is managed by DBT.  Meanwhile, with DBT core, we have the codebase on our computer, and then we can ultimately push it up to Github.  \n",
    "\n",
    "In these lessons we'll be using DBT core.\n",
    "\n",
    "Let's get started."
   ]
  },
  {
   "cell_type": "markdown",
   "id": "2b93728b-37d9-4e10-9083-ba5d2a320371",
   "metadata": {},
   "source": [
    "### Installing DBT Core"
   ]
  },
  {
   "cell_type": "markdown",
   "id": "081ebf2f-48c2-4c2a-8ee8-068011bf4f4d",
   "metadata": {},
   "source": [
    "If you look inside of the `codebase` folder, you will see a `requirements.txt` file with the following."
   ]
  },
  {
   "cell_type": "markdown",
   "id": "9b61b409-3290-43a3-9a0d-7034dfcef3f4",
   "metadata": {},
   "source": [
    "```text\n",
    "dbt-core\n",
    "dbt-postgres\n",
    "```"
   ]
  },
  {
   "cell_type": "markdown",
   "id": "4a51d298-1fec-4421-8b32-02dc6038add8",
   "metadata": {},
   "source": [
    "So let's create a new environment."
   ]
  },
  {
   "cell_type": "markdown",
   "id": "768a4f18-8522-4f18-86a6-0c50c432a1f9",
   "metadata": {},
   "source": [
    "```bash\n",
    "python3 -m venv venv\n",
    "\n",
    "source venv/bin/activate\n",
    "```"
   ]
  },
  {
   "cell_type": "markdown",
   "id": "eb87896d-3714-45be-a79e-3179cf844b60",
   "metadata": {},
   "source": [
    "And from there, we can install our pip libraries. "
   ]
  },
  {
   "cell_type": "markdown",
   "id": "e11515be-8a29-44d0-9b84-4fd9c16ff87e",
   "metadata": {},
   "source": [
    "```bash\n",
    "pip3 install -r requirements.txt\n",
    "```"
   ]
  },
  {
   "cell_type": "markdown",
   "id": "6967e2eb-ca60-4333-8b2d-4943339f5a1e",
   "metadata": {},
   "source": [
    "From there, we can confirm that dbt is installed with the following:"
   ]
  },
  {
   "cell_type": "markdown",
   "id": "99c4c773-5f62-4c45-b986-c563d7cf3abe",
   "metadata": {},
   "source": [
    "```\n",
    "dbt --version\n",
    "```"
   ]
  },
  {
   "cell_type": "markdown",
   "id": "948c299b-bf59-47a7-b549-eb9eff99a266",
   "metadata": {},
   "source": [
    "### Setting up our project"
   ]
  },
  {
   "cell_type": "markdown",
   "id": "6dce2fa0-76ba-4aff-bb18-6d800e900efd",
   "metadata": {},
   "source": [
    "Ok, now to set up our particular dbt repository, we can do so with the following:\n",
    "\n",
    "```bash\n",
    "dbt init dbt_revenue_tracker\n",
    "```"
   ]
  },
  {
   "cell_type": "markdown",
   "id": "fbfd0a1e-868f-4bae-b077-201718f61f55",
   "metadata": {},
   "source": [
    "Now at this point, DBT will try to take us through an automated setup.  But it's better if we perform it manually."
   ]
  },
  {
   "cell_type": "markdown",
   "id": "5f37d8e7-0ce1-4cb3-aec9-db1dcff79200",
   "metadata": {},
   "source": [
    "So when you see the text \n",
    "\n",
    "```text\n",
    "Enter a number:\n",
    "```\n",
    "\n",
    "Just press `ctl + c` to exit."
   ]
  },
  {
   "cell_type": "markdown",
   "id": "2ef1384d-2988-4b34-86ad-47975f8c2c3b",
   "metadata": {},
   "source": [
    "If you explore the current directory by typing `ls`, you'll see that dbt already setup our initial repository, which has our necessary files."
   ]
  },
  {
   "cell_type": "markdown",
   "id": "2daae5c5-996a-49e0-8035-127a9520442b",
   "metadata": {},
   "source": [
    "```bash\n",
    "ls dbt_revenue_tracker\n",
    "```\n",
    "\n",
    "```bash\n",
    "README.md\tdbt_project.yml\tmodels\t\ttarget\n",
    "analyses\tlogs\t\tseeds\t\ttests\n",
    "dbt_packages\tmacros\t\tsnapshots\n",
    "```"
   ]
  },
  {
   "cell_type": "markdown",
   "id": "4b351051-dfe4-4882-a0df-13ff7268baf9",
   "metadata": {},
   "source": [
    "The most important component is the `dbt_project.yml` file."
   ]
  },
  {
   "cell_type": "markdown",
   "id": "aeaec733-8c37-4c85-941f-5bcc4e3849d6",
   "metadata": {},
   "source": [
    "```yaml\n",
    "# dbt_project.yml\n",
    "name: 'dbt_revenue_tracker'\n",
    "version: '1.0.0'\n",
    "config-version: 2\n",
    "\n",
    "# This setting configures which \"profile\" dbt uses for this project.\n",
    "profile: 'dbt_revenue_tracker'\n",
    "```"
   ]
  },
  {
   "cell_type": "markdown",
   "id": "bb347ad9-f4fa-4829-8a8f-0c9496c11fed",
   "metadata": {},
   "source": [
    "Starting from the top, there you can see the following:\n",
    "\n",
    "* `name:` The name of the project\n",
    "* `version`: The version of the project\n",
    "* `config-version`: The dbt config version (changes when we want to use a different dbt config version)\n",
    "\n",
    "Then with `profile`, we can see that this `dbt_project.yml` file connects to the `profiles.yml` file.  \n",
    "\n",
    "The `profiles.yml` file is what will create our connection to the database -- and what dbt was trying to perform when we pressed `ctl + c`.  So let's take care of that now."
   ]
  },
  {
   "cell_type": "markdown",
   "id": "2d73540c-23a0-4d50-a75c-fd086ad228e0",
   "metadata": {},
   "source": [
    "### Profiles file"
   ]
  },
  {
   "cell_type": "markdown",
   "id": "d3d64e90-afe6-470d-b287-4cbe94752f7c",
   "metadata": {},
   "source": [
    "The `profiles.yml` file is stored in your home directory, in a `.dbt` folder.\n",
    "\n",
    "So navigate to the home directory, and then look for the .dbt folder:\n",
    "\n",
    "```bash\n",
    "cd ~\n",
    "\n",
    "ls -a\n",
    "```"
   ]
  },
  {
   "cell_type": "markdown",
   "id": "cf088112-f857-4695-88f4-5cf6781888ac",
   "metadata": {},
   "source": [
    "From there, we can navigate into the `.dbt` folder, and create a profiles.yml file.\n",
    "\n",
    "```bash\n",
    "cd .dbt\n",
    "\n",
    "touch profiles.yml\n",
    "```"
   ]
  },
  {
   "cell_type": "markdown",
   "id": "693eebcf-30dd-4892-a0ad-3298c062905a",
   "metadata": {},
   "source": [
    "Now let's in the newly created `profiles.yml` file, paste in the following:"
   ]
  },
  {
   "cell_type": "markdown",
   "id": "222977d0-9956-4ef6-8e31-72d13071d3ba",
   "metadata": {},
   "source": [
    "Ok, so let's break down the setup above."
   ]
  },
  {
   "cell_type": "markdown",
   "id": "539561e3-685e-49dd-ab21-f442d9b89d47",
   "metadata": {},
   "source": [
    "```yaml\n",
    "dbt_revenue_tracker:\n",
    "  target: dev\n",
    "  outputs:\n",
    "    dev:\n",
    "      type: postgres\n",
    "      host: localhost\n",
    "      user: jeff # add your username \n",
    "      password: \"\" # add your password, or use \"\" if none\n",
    "      port: 5432\n",
    "      dbname: dbt_test\n",
    "      schema: public\n",
    "      threads: 1\n",
    "      connect_timeout: 30\n",
    "```"
   ]
  },
  {
   "cell_type": "markdown",
   "id": "565a0703-ac9d-42bf-b942-12c55b7d7fe8",
   "metadata": {},
   "source": [
    "Ok for the yaml file above, you'll need to change the user, and password to match your database user and password.  Below is a more detailed explanation as to what each attribute means."
   ]
  },
  {
   "cell_type": "markdown",
   "id": "d425c21f-b1d4-431b-bd26-8be3ba54c1b1",
   "metadata": {},
   "source": [
    "```yml\n",
    "dbt_revenue_tracker: \n",
    "# ^ links up to the profile key in the dbt_project.yml file\n",
    "\n",
    "  target: dev # specifies name of the target our sql output will be written to  \n",
    "  outputs:\n",
    "    dev: # description of the dev target\n",
    "      type: postgres # type of db\n",
    "      host: localhost # our host\n",
    "      user: jeffreykatz # user\n",
    "      password: \"\" # password\n",
    "      port: 5432\n",
    "      dbname: dbt_test # the database name\n",
    "      schema: public # the schema we will write to \n",
    "      threads: 1 # number of db threads to use\n",
    "      connect_timeout: 30\n",
    "```"
   ]
  },
  {
   "cell_type": "markdown",
   "id": "63919763-fac1-4bc4-9956-7bb2342c9453",
   "metadata": {},
   "source": [
    "Now notice under `dbname` it says `db_test`, but it's likely that we do not have a database called `db_test`.  So connect to postgres, and set it up."
   ]
  },
  {
   "cell_type": "markdown",
   "id": "a1afbfc9-49c5-4aff-81c2-ed4a524cb6cd",
   "metadata": {},
   "source": [
    "```bash\n",
    "psql\n",
    "\n",
    "create database db_test;\n",
    "\n",
    "\\q\n",
    "```"
   ]
  },
  {
   "cell_type": "markdown",
   "id": "682528a1-ca37-4ac0-8fbb-49f75679cc76",
   "metadata": {},
   "source": [
    "Ok, now we can check if our connection is set up properly.  Go and `cd` into the `dbt_revenue_tracker` folder, and then run the following:"
   ]
  },
  {
   "cell_type": "markdown",
   "id": "71f1023f-7a8b-4a16-9f2a-39f87f7738b3",
   "metadata": {},
   "source": [
    "```bash\n",
    "dbt debug\n",
    "```"
   ]
  },
  {
   "cell_type": "markdown",
   "id": "a7811670-84ac-4501-8a54-2b7cbcebe81c",
   "metadata": {},
   "source": [
    "If it worked properly, you should see, something like the following:"
   ]
  },
  {
   "cell_type": "markdown",
   "id": "c456743b-ba74-4903-a081-8489c1c55a5f",
   "metadata": {},
   "source": [
    "```bash\n",
    "18:30:03    Connection test: [OK connection ok]\n",
    "18:30:03  All checks passed!\n",
    "```"
   ]
  },
  {
   "cell_type": "markdown",
   "id": "21556ee7-1bc9-4474-874e-f391379208be",
   "metadata": {},
   "source": [
    "If not, read the error message and try to debug it."
   ]
  },
  {
   "cell_type": "markdown",
   "id": "2722b09b-a2f1-4541-a501-1630abb1e3a3",
   "metadata": {},
   "source": [
    "### Adding some data"
   ]
  },
  {
   "cell_type": "markdown",
   "id": "726e609e-c9f0-4a68-a29a-745f5862f22d",
   "metadata": {},
   "source": [
    "Ok, so now in a real project, we would have some data set up in our analytics database.  For example, a workflow orchestrator like prefect or airflow could pull our data from an API and repeatedly input the data.\n",
    "\n",
    "Here, though we can just seed our data.  By seeding data, we can used DBT to load data from a `csv` file into our database.  \n",
    "\n",
    "To do this, move the `cities.csv` file from `codebase` into the `dbt_revenue_tracker/seeds` directory.\n",
    "\n",
    "Then navigate to the `dbt_revenue_tracker` and type `dbt seed`.\n",
    "\n",
    "```bash\n",
    "dbt seed\n",
    "```\n",
    "\n",
    "DBT will have used the name of the csv file (cities.csv) to create a new table in our database.  Let's check.\n",
    "\n",
    "```bash\n",
    "psql\n",
    "\n",
    "\\c dbt_test\n",
    "```"
   ]
  },
  {
   "cell_type": "markdown",
   "id": "3ce75387-647f-461d-86c8-a0bf3b2799cd",
   "metadata": {},
   "source": [
    "Then check our available tables by typing `\\d` and we should see the cities table."
   ]
  },
  {
   "cell_type": "markdown",
   "id": "4f6088d8-0f6c-4191-9993-3476e9ef1268",
   "metadata": {},
   "source": [
    "### Running our first model"
   ]
  },
  {
   "cell_type": "markdown",
   "id": "58d6b672-a188-47d7-b39f-5778ceeff1d6",
   "metadata": {},
   "source": [
    "Ok, now it's time to run our first model.  So navigate to the models directory.  And let's remove the `models/example` directory.  Instead let's make the staging directory, which is the directly where we'll perform an initial cleanup of our source data."
   ]
  },
  {
   "cell_type": "markdown",
   "id": "0fcbd3c4-a423-4be3-ab93-d1521149497a",
   "metadata": {},
   "source": [
    "```bash\n",
    "mkdir models/staging\n",
    "```"
   ]
  },
  {
   "cell_type": "markdown",
   "id": "a74def71-1941-4639-9e56-b1248b0954bf",
   "metadata": {},
   "source": [
    "And then in the `models/staging` folder, we can create a new file called `stg_cities.sql`, where we'll place the following:"
   ]
  },
  {
   "cell_type": "markdown",
   "id": "de09c7d8-6d84-41bb-99e2-7de3fc2e5860",
   "metadata": {},
   "source": [
    "```sql\n",
    "WITH cities as (\n",
    "  SELECT * FROM {{ ref('cities') }} \n",
    ")\n",
    "\n",
    "SELECT * FROM cities\n",
    "```"
   ]
  },
  {
   "cell_type": "markdown",
   "id": "e8bd4c83-1caf-42de-9535-cad985b1818b",
   "metadata": {},
   "source": [
    "Now let's run the model."
   ]
  },
  {
   "cell_type": "markdown",
   "id": "7f386723-dda5-4f63-8532-f0857d3c09d4",
   "metadata": {},
   "source": [
    "From inside of our `dbt_revenue_tracker` directory, run the following:\n",
    "\n",
    "```bash\n",
    "dbt run\n",
    "```\n",
    "And we should see an output like the following:"
   ]
  },
  {
   "cell_type": "markdown",
   "id": "a5a0364b-e247-4578-840a-bcced86efa89",
   "metadata": {},
   "source": [
    "```bash\n",
    "8:54:40  1 of 1 START sql view model public.stg_cities .................................. [RUN]\n",
    "18:54:40  1 of 1 OK created sql view model public.stg_cities ............................. [CREATE VIEW in 0.08s]\n",
    "18:54:40\n",
    "18:54:40  Finished running 1 view model in 0 hours 0 minutes and 0.28 seconds (0.28s).\n",
    "18:54:40\n",
    "18:54:40  Completed successfully\n",
    "```"
   ]
  },
  {
   "cell_type": "markdown",
   "id": "4d9f5856-cd5d-474c-af93-68dc83b59921",
   "metadata": {},
   "source": [
    "You can see that DBT created a new view called `public.stg_cities`, and the the output from our select statement became contents of that new view.  Let's confirm that.  \n",
    "\n",
    "Connect to our postgres db, and then check out tables.\n",
    "\n",
    "```bash\n",
    "psql -d dbt_test\n",
    "\n",
    "\\d\n",
    "```\n",
    "\n",
    "And then perform a select statement `select * from stg_cities limit 3`.  "
   ]
  },
  {
   "cell_type": "markdown",
   "id": "01ad6aa0-fed5-471c-a513-d491b65c4066",
   "metadata": {},
   "source": [
    "### Setting a personal schema"
   ]
  },
  {
   "cell_type": "markdown",
   "id": "992a852c-fe68-4c16-a7f7-5528cc7bf9dd",
   "metadata": {},
   "source": [
    "Now with DBT, we generally do not what to clutter the public schema with models we are working on in development.  So let's use a specified schema for our output data.\n",
    "\n",
    "Do so by navigating to the `~./dbt/profiles.yml` file.  And then change `schema: public` to something like `schema: jk_test`.  Use your own initials (it will feel better).  \n",
    "\n",
    "Now when you write perform dbt run, it will write the output to the specified schema.\n",
    "\n",
    "There's just one problem.  That problem is that dbt will think the source data also comes from that schema, unless otherwise specified.  \n",
    "\n",
    "But our source cities table doesn't come from there -- it comes from our public schema.\n",
    "\n",
    "So in DBT, we can create a source file to specify where this source data comes from.  In the `models/staging` folder create a `sources.yml` file, and add the following:\n",
    "\n",
    "```yaml\n",
    "version: 2\n",
    "sources:\n",
    "  - name: postgres\n",
    "    database: dbt_test\n",
    "    schema: public\n",
    "    tables:\n",
    "      - name: cities\n",
    "```"
   ]
  },
  {
   "cell_type": "markdown",
   "id": "8af267a3-ea4b-4a41-a519-d1e241bcdc5b",
   "metadata": {},
   "source": [
    "So above, we are saying naming our source `postgres`, and specifying the information for how to get to the cities table (including the `database` and `schema` and `table`.\n",
    "\n",
    "Then we can update our model to use this source, with the following:"
   ]
  },
  {
   "cell_type": "markdown",
   "id": "346fd0a8-3837-4422-82a8-4ea04bc601c7",
   "metadata": {},
   "source": [
    "```sql\n",
    "WITH cities as (\n",
    "  SELECT * FROM {{ source('postgres', 'cities') }} \n",
    ")\n",
    "\n",
    "SELECT * FROM cities\n",
    "```"
   ]
  },
  {
   "cell_type": "markdown",
   "id": "04a2deb2-97fa-4d1f-811f-9ea156569b9d",
   "metadata": {},
   "source": [
    "So now dbt will not use the `ref` keyword, which looks to the schema and database setup in our `profiles.yml` target information.  Instead, by using `source` it looks at the information we just specified in `sources.yml`.  \n",
    "\n",
    "So run `dbt run` again and confirm that it works."
   ]
  },
  {
   "cell_type": "markdown",
   "id": "39e5a6f6-13d1-4400-87a1-e2968a798443",
   "metadata": {},
   "source": [
    "```bash\n",
    "dbt run\n",
    "\n",
    "9:14:24  Finished running 1 view model in 0 hours 0 minutes and 0.29 seconds (0.29s).\n",
    "19:14:24\n",
    "19:14:24  Completed successfully\n",
    "```"
   ]
  },
  {
   "cell_type": "markdown",
   "id": "83af1a70-4146-442e-9266-1dc94e85e904",
   "metadata": {},
   "source": [
    "Next, let's confirm that we created a model in that schema."
   ]
  },
  {
   "cell_type": "markdown",
   "id": "4909ed1f-1b1f-42e5-8e01-628ef8c97935",
   "metadata": {},
   "source": [
    "```bash\n",
    "psql -d dbt_test\n",
    "\n",
    "# replace jk_test with your schema name\n",
    "select * from jk_test.stg_cities limit 3;\n",
    "```"
   ]
  }
 ],
 "metadata": {
  "kernelspec": {
   "display_name": "Python 3 (ipykernel)",
   "language": "python",
   "name": "python3"
  },
  "language_info": {
   "codemirror_mode": {
    "name": "ipython",
    "version": 3
   },
   "file_extension": ".py",
   "mimetype": "text/x-python",
   "name": "python",
   "nbconvert_exporter": "python",
   "pygments_lexer": "ipython3",
   "version": "3.10.13"
  }
 },
 "nbformat": 4,
 "nbformat_minor": 5
}
