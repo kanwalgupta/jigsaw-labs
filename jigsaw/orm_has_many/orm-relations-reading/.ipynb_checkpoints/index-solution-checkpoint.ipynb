{
 "cells": [
  {
   "cell_type": "markdown",
   "metadata": {},
   "source": [
    "# Moe's Bar Lab"
   ]
  },
  {
   "cell_type": "markdown",
   "metadata": {},
   "source": [
    "### Introduction"
   ]
  },
  {
   "cell_type": "markdown",
   "metadata": {},
   "source": [
    "In this lesson, we'll apply our knowlwedge of querying tables with has many through to ask questions of customers and bartenders at a bar."
   ]
  },
  {
   "cell_type": "markdown",
   "metadata": {},
   "source": [
    "### Loading Our Data"
   ]
  },
  {
   "cell_type": "markdown",
   "metadata": {},
   "source": [
    "Create a new file called `moes_bar.sql` and then copy and paste the below into the file."
   ]
  },
  {
   "cell_type": "markdown",
   "metadata": {},
   "source": [
    "```sql\n",
    "CREATE TABlE IF NOT EXISTS bartenders(\n",
    "  id INTEGER PRIMARY KEY,\n",
    "  name TEXT,\n",
    "  hometown TEXT,\n",
    "  birthyear INTEGER\n",
    ");\n",
    "\n",
    "INSERT INTO bartenders (name, hometown, birthyear) VALUES\n",
    "  (\"moe\", \"springfield\", 1965),\n",
    "  (\"selma\", \"milwaukee\", 1970),\n",
    "  (\"patty\", \"philly\", 1970);\n",
    "\n",
    "  CREATE TABLE IF NOT EXISTS customers (\n",
    "    id INTEGER PRIMARY KEY,\n",
    "    name TEXT,\n",
    "    hometown TEXT,\n",
    "    birthyear INTEGER\n",
    "  );\n",
    "\n",
    "INSERT INTO customers (name, hometown, birthyear) VALUES\n",
    "  (\"bart simpson\", \"springfield\", 2008),\n",
    "  (\"maggie simpson\", \"milwaukee\", 2016),\n",
    "  (\"lisa simpson\", \"philly\", 2006);\n",
    "\n",
    "CREATE TABLE IF NOT EXISTS drinks (\n",
    "    id INTEGER PRIMARY KEY,\n",
    "    name TEXT,\n",
    "    calories INTEGER,\n",
    "    price INTEGER,\n",
    "    alcoholic INTEGER\n",
    "  );\n",
    "\n",
    "INSERT INTO drinks (name, calories, price, alcoholic) VALUES\n",
    "  (\"egg cream soda\", 80, 3, 0),\n",
    "  (\"milkshake\", 300, 5, 0),\n",
    "  (\"rootbeer\", 180, 6, 0),\n",
    "  (\"ice cream float\", 250, 8, 0),\n",
    "  (\"duff beer\", 200, 7,  1),\n",
    "  (\"gin and tonic\", 200, 7, 1);\n",
    "\n",
    "\n",
    "CREATE TABLE IF NOT EXISTS orders (\n",
    "    id INTEGER PRIMARY KEY,\n",
    "    customer_id INTEGER,\n",
    "    drink_id INTEGER,\n",
    "    bartender_id INTEGER\n",
    "  );\n",
    "\n",
    "INSERT INTO orders (customer_id, drink_id, bartender_id) VALUES\n",
    "  (1, 1, 1),\n",
    "  (1, 1, 1),\n",
    "  (2, 5, 2),\n",
    "  (2, 5, 1),\n",
    "  (2, 5, 1),\n",
    "  (3, 6, 3),\n",
    "  (1, 2, 1),\n",
    "  (2, 3, 2),\n",
    "  (3, 4, 3);\n",
    "\n",
    "CREATE TABLE IF NOT EXISTS ingredients (\n",
    "    id INTEGER PRIMARY KEY,\n",
    "    name TEXT,\n",
    "    price INTEGER\n",
    "  );\n",
    "\n",
    "\n",
    "CREATE TABLE IF NOT EXISTS ingredients_drinks (\n",
    "  id INTEGER PRIMARY KEY,\n",
    "  drink_id INTEGER,\n",
    "  ingredient_id INTEGER\n",
    ");\n",
    "\n",
    "INSERT INTO ingredients_drinks (drink_id, ingredient_id) VALUES\n",
    "  (1, 6),\n",
    "  (1, 5),\n",
    "  (2, 3),\n",
    "  (2, 5),\n",
    "  (6, 1),\n",
    "  (6, 2);\n",
    "\n",
    "INSERT INTO ingredients (name, price) VALUES\n",
    "  ('gin', 3),\n",
    "  ('tonic', 4),\n",
    "  ('milk', 2),\n",
    "  ('rootbeer', 2),\n",
    "  ('icecream', 2),\n",
    "  ('seltzer', 2),\n",
    "  ('rootbeer', 3),\n",
    "  ('duff beer', 5);\n",
    "```"
   ]
  },
  {
   "cell_type": "markdown",
   "metadata": {},
   "source": [
    "Make sure that you only copied the contents above and nothing else."
   ]
  },
  {
   "cell_type": "markdown",
   "metadata": {},
   "source": [
    "Once you have copied the SQL statements above, then run the following to create the database, and execute the code. "
   ]
  },
  {
   "cell_type": "code",
   "execution_count": 1,
   "metadata": {},
   "outputs": [],
   "source": [
    "!sqlite3 moes_bar.db < moes_bar.sql"
   ]
  },
  {
   "cell_type": "markdown",
   "metadata": {},
   "source": [
    "Then we can connect to our database with the following."
   ]
  },
  {
   "cell_type": "code",
   "execution_count": 20,
   "metadata": {},
   "outputs": [],
   "source": [
    "import sqlite3\n",
    "conn = sqlite3.connect('./bar.db')\n",
    "cursor = conn.cursor()"
   ]
  },
  {
   "cell_type": "markdown",
   "metadata": {},
   "source": [
    "### Exploring our Database"
   ]
  },
  {
   "cell_type": "markdown",
   "metadata": {},
   "source": [
    "Now we list of all of the tables with the following."
   ]
  },
  {
   "cell_type": "code",
   "execution_count": 5,
   "metadata": {},
   "outputs": [
    {
     "data": {
      "text/plain": [
       "<sqlite3.Cursor at 0x109c86500>"
      ]
     },
     "execution_count": 5,
     "metadata": {},
     "output_type": "execute_result"
    }
   ],
   "source": [
    "cursor.execute(\"SELECT name FROM sqlite_master WHERE type='table';\")\n",
    "cursor.fetchall()"
   ]
  },
  {
   "cell_type": "markdown",
   "metadata": {},
   "source": [
    "And then we can see the details of a particular table with the following."
   ]
  },
  {
   "cell_type": "code",
   "execution_count": 10,
   "metadata": {},
   "outputs": [
    {
     "data": {
      "text/plain": [
       "[(0, 'id', 'INTEGER', 0, None, 1),\n",
       " (1, 'customer_id', 'INTEGER', 0, None, 0),\n",
       " (2, 'drink_id', 'INTEGER', 0, None, 0),\n",
       " (3, 'bartender_id', 'INTEGER', 0, None, 0)]"
      ]
     },
     "execution_count": 10,
     "metadata": {},
     "output_type": "execute_result"
    }
   ],
   "source": [
    "cursor.execute(\"pragma table_info(orders)\")\n",
    "cursor.fetchall()"
   ]
  },
  {
   "cell_type": "markdown",
   "metadata": {},
   "source": [
    "### Making our queries"
   ]
  },
  {
   "cell_type": "markdown",
   "metadata": {},
   "source": [
    "* Find the name of the youngest customer "
   ]
  },
  {
   "cell_type": "code",
   "execution_count": 13,
   "metadata": {},
   "outputs": [
    {
     "data": {
      "text/plain": [
       "[('lisa simpson', 2006)]"
      ]
     },
     "execution_count": 13,
     "metadata": {},
     "output_type": "execute_result"
    }
   ],
   "source": [
    "youngest_customer = \"select name, min(birthyear) from customers;\"\n",
    "\n",
    "cursor.execute(youngest_customer)\n",
    "cursor.fetchall()\n",
    "# [('lisa simpson', 2006)]"
   ]
  },
  {
   "cell_type": "markdown",
   "metadata": {},
   "source": [
    "* Order the drinks from most to least expensive"
   ]
  },
  {
   "cell_type": "code",
   "execution_count": 15,
   "metadata": {},
   "outputs": [
    {
     "data": {
      "text/plain": [
       "[('ice cream float', 8),\n",
       " ('duff beer', 7),\n",
       " ('gin and tonic', 7),\n",
       " ('rootbeer', 6),\n",
       " ('milkshake', 5),\n",
       " ('egg cream soda', 3)]"
      ]
     },
     "execution_count": 15,
     "metadata": {},
     "output_type": "execute_result"
    }
   ],
   "source": [
    "cheapest_drinks = \"select name, price from drinks ORDER BY price DESC;\"\n",
    "\n",
    "cursor.execute(cheapest_drinks)\n",
    "cursor.fetchall()\n",
    "# [('ice cream float', 8),\n",
    "#  ('duff beer', 7),\n",
    "#  ('gin and tonic', 7),\n",
    "#  ('rootbeer', 6),\n",
    "#  ('milkshake', 5),\n",
    "#  ('egg cream soda', 3)]"
   ]
  },
  {
   "cell_type": "markdown",
   "metadata": {},
   "source": [
    "* Find the most expensive drink that bart simpson ordered"
   ]
  },
  {
   "cell_type": "code",
   "execution_count": 21,
   "metadata": {},
   "outputs": [
    {
     "data": {
      "text/plain": [
       "[('milkshake', 5)]"
      ]
     },
     "execution_count": 21,
     "metadata": {},
     "output_type": "execute_result"
    }
   ],
   "source": [
    "barts_orders = \"\"\"select drinks.name, max(drinks.price) from drinks \n",
    "join orders on orders.drink_id = drinks.id\n",
    "join customers on customers.id = orders.customer_id\n",
    "where customers.name = 'bart simpson';\"\"\"\n",
    "\n",
    "cursor.execute(barts_orders)\n",
    "cursor.fetchall()\n",
    "# [('milkshake', 5)]"
   ]
  },
  {
   "cell_type": "markdown",
   "metadata": {},
   "source": [
    "* Find a list of all of the customers of moe"
   ]
  },
  {
   "cell_type": "code",
   "execution_count": 11,
   "metadata": {},
   "outputs": [
    {
     "data": {
      "text/plain": [
       "[('bart simpson',), ('maggie simpson',)]"
      ]
     },
     "execution_count": 11,
     "metadata": {},
     "output_type": "execute_result"
    }
   ],
   "source": [
    "moes_customers = \"\"\"select DISTINCT(customers.name) from customers \n",
    "join orders on orders.customer_id = customers.id\n",
    "join bartenders on bartenders.id = orders.bartender_id\n",
    "where bartenders.name = 'moe';\"\"\"\n",
    "\n",
    "cursor.execute(moes_customers)\n",
    "cursor.fetchall()\n",
    "# [('bart simpson',), ('maggie simpson',)]"
   ]
  },
  {
   "cell_type": "markdown",
   "metadata": {},
   "source": [
    "* Most profitable customer"
   ]
  },
  {
   "cell_type": "code",
   "execution_count": 34,
   "metadata": {},
   "outputs": [
    {
     "data": {
      "text/plain": [
       "[('bart simpson', 40), ('lisa simpson', 28)]"
      ]
     },
     "execution_count": 34,
     "metadata": {},
     "output_type": "execute_result"
    }
   ],
   "source": [
    "most_profitable_customer = \"\"\"select customers.name, SUM(drinks.price) - SUM(ingredients.price) as profit FROM ingredients \n",
    "INNER JOIN ingredients_drinks ON ingredients_drinks.ingredient_id = ingredients.id \n",
    "INNER JOIN drinks ON drinks.id = ingredients_drinks.drink_id \n",
    "INNER JOIN customers ON orders.customer_id = customers.id \n",
    "INNER JOIN orders ON orders.drink_id = drinks.id GROUP BY orders.customer_id ORDER BY profit DESC;\"\"\"\n",
    "\n",
    "cursor.execute(most_profitable_customer)\n",
    "cursor.fetchall()"
   ]
  },
  {
   "cell_type": "code",
   "execution_count": 14,
   "metadata": {},
   "outputs": [
    {
     "data": {
      "text/plain": [
       "[(1, 'bart simpson', 'springfield', 2008),\n",
       " (2, 'maggie simpson', 'milwaukee', 2016),\n",
       " (3, 'lisa simpson', 'philly', 2006)]"
      ]
     },
     "execution_count": 14,
     "metadata": {},
     "output_type": "execute_result"
    }
   ],
   "source": [
    "cursor.execute(\"SELECT * FROM customers;\")\n",
    "cursor.fetchall()"
   ]
  },
  {
   "cell_type": "code",
   "execution_count": null,
   "metadata": {},
   "outputs": [],
   "source": []
  }
 ],
 "metadata": {
  "kernelspec": {
   "display_name": "Python 3",
   "language": "python",
   "name": "python3"
  },
  "language_info": {
   "codemirror_mode": {
    "name": "ipython",
    "version": 3
   },
   "file_extension": ".py",
   "mimetype": "text/x-python",
   "name": "python",
   "nbconvert_exporter": "python",
   "pygments_lexer": "ipython3",
   "version": "3.8.3"
  }
 },
 "nbformat": 4,
 "nbformat_minor": 4
}
