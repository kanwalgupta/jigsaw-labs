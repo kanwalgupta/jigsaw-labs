{
 "cells": [
  {
   "cell_type": "markdown",
   "metadata": {},
   "source": [
    "# ORM Has Many Reading"
   ]
  },
  {
   "cell_type": "markdown",
   "metadata": {},
   "source": [
    "### Introduction"
   ]
  },
  {
   "cell_type": "markdown",
   "metadata": {},
   "source": [
    "In this lesson, we'll fill in our other relationship methods.  We'll see how we can query our database fill in our `hasmany` functions.  For example, we'll stick with the moe's bar domain, but this time fill in a query that returns the many orders that each customer may have."
   ]
  },
  {
   "cell_type": "markdown",
   "metadata": {},
   "source": [
    "### Loading up our database"
   ]
  },
  {
   "cell_type": "markdown",
   "metadata": {},
   "source": [
    "Let's again work with Moe's bar.  We can begin by loading the data from our database.  And let's take a look at the tables.  \n",
    "\n",
    "> This lesson will work if you download it from github."
   ]
  },
  {
   "cell_type": "code",
   "execution_count": 1,
   "metadata": {},
   "outputs": [
    {
     "data": {
      "text/plain": [
       "[('bartenders',),\n",
       " ('customers',),\n",
       " ('drinks',),\n",
       " ('orders',),\n",
       " ('ingredients',),\n",
       " ('ingredients_drinks',)]"
      ]
     },
     "execution_count": 1,
     "metadata": {},
     "output_type": "execute_result"
    }
   ],
   "source": [
    "import sqlite3\n",
    "conn = sqlite3.connect('./moes_bar.db')\n",
    "cursor = conn.cursor()\n",
    "\n",
    "import pandas as pd\n",
    "root_url = \"https://raw.githubusercontent.com/jigsawlabs-student/curriculum-images/main/has-many-through-bar/data/\"\n",
    "names = ['bartenders', 'customers', 'drinks', 'orders', 'ingredients', 'ingredients_drinks']\n",
    "loaded_dfs = [pd.read_csv(f'{root_url}{name}.csv') for name in names]\n",
    "for index, name in enumerate(names):\n",
    "    loaded_dfs[index].to_sql(f'{name}', conn, index = False, if_exists = 'replace')\n",
    "cursor.execute(\"SELECT name FROM sqlite_master WHERE type='table';\")\n",
    "cursor.fetchall()"
   ]
  },
  {
   "cell_type": "markdown",
   "metadata": {},
   "source": [
    "### Has many queries"
   ]
  },
  {
   "cell_type": "markdown",
   "metadata": {},
   "source": [
    "Now let's get moving with our has many relationship.  We already saw how to add an method to our order class to return the associated customer. "
   ]
  },
  {
   "cell_type": "code",
   "execution_count": 10,
   "metadata": {},
   "outputs": [],
   "source": [
    "class Order:\n",
    "    __table__ = 'orders'\n",
    "    columns = ['id', 'customer_id', 'drink_id', 'bartender_id']\n",
    "    \n",
    "    def customer(self):\n",
    "        cursor.execute('SELECT * FROM customers WHERE id = ?', (self.customer_id,))\n",
    "        customer_record = cursor.fetchone()\n",
    "        return build_from_record(Customer, customer_record)\n",
    "\n",
    "class Customer:\n",
    "    __table__ = 'customers'\n",
    "    columns = ['id', 'name', 'hometown']\n",
    "    \n",
    "    \n",
    "def build_from_record(Class, record):\n",
    "    if not record: return None\n",
    "    attr = dict(zip(Class.columns, record))\n",
    "    obj = Class()\n",
    "    obj.__dict__ = attr\n",
    "    return obj\n",
    "\n",
    "def build_from_records(Class, records):\n",
    "    return [build_from_record(Class, record) for record in records]"
   ]
  },
  {
   "cell_type": "markdown",
   "metadata": {},
   "source": [
    "Now let's add a method to our customer class that returns the all of the related orders.  Once again, it's easier if we start with a record from the database. "
   ]
  },
  {
   "cell_type": "code",
   "execution_count": 8,
   "metadata": {},
   "outputs": [
    {
     "data": {
      "text/plain": [
       "{'id': 3, 'name': 'lisa simpson', 'hometown': 'philly'}"
      ]
     },
     "execution_count": 8,
     "metadata": {},
     "output_type": "execute_result"
    }
   ],
   "source": [
    "cursor.execute('SELECT * FROM customers ORDER BY id DESC LIMIT 1;')\n",
    "last_customer_record = cursor.fetchone()\n",
    "\n",
    "last_customer = build_from_record(Customer, last_customer_record)\n",
    "\n",
    "last_customer.__dict__"
   ]
  },
  {
   "cell_type": "markdown",
   "metadata": {},
   "source": [
    "So now, starting with this customer let's think about how we can get all of the associated orders.  Well the only id we have is the customer id.  And we can use that if we remember that there is a `customer_id` column on the orders table.  Our method looks like the following:"
   ]
  },
  {
   "cell_type": "code",
   "execution_count": 14,
   "metadata": {},
   "outputs": [],
   "source": [
    "class Customer:\n",
    "    __table__ = 'customers'\n",
    "    columns = ['id', 'name', 'hometown']\n",
    "    \n",
    "    def orders(self):\n",
    "        cursor.execute('SELECT * FROM orders WHERE orders.customer_id = ?;', (self.id,))\n",
    "        order_records = cursor.fetchall()\n",
    "        return build_from_records(Order, order_records)"
   ]
  },
  {
   "cell_type": "code",
   "execution_count": 20,
   "metadata": {},
   "outputs": [],
   "source": [
    "last_customer = build_from_record(Customer, last_customer_record)"
   ]
  },
  {
   "cell_type": "code",
   "execution_count": 17,
   "metadata": {},
   "outputs": [
    {
     "data": {
      "text/plain": [
       "[<__main__.Order at 0x10c0a2a00>, <__main__.Order at 0x10c0a2fd0>]"
      ]
     },
     "execution_count": 17,
     "metadata": {},
     "output_type": "execute_result"
    }
   ],
   "source": [
    "orders = last_customer.orders()\n",
    "orders"
   ]
  },
  {
   "cell_type": "markdown",
   "metadata": {},
   "source": [
    "> Take a moment to read back through the query and make sure that you understand how it works."
   ]
  },
  {
   "cell_type": "markdown",
   "metadata": {},
   "source": [
    "### Give it a shot"
   ]
  },
  {
   "cell_type": "markdown",
   "metadata": {},
   "source": [
    "In fact if we give you the Bartender class, add a function that returns all of the bartender's orders."
   ]
  },
  {
   "cell_type": "code",
   "execution_count": 19,
   "metadata": {},
   "outputs": [],
   "source": [
    "class Bartender:\n",
    "    __table__ = 'bartenders'\n",
    "    columns = ['id', 'name', 'hometown', 'birthyear']\n",
    "    \n",
    "    def orders(self):\n",
    "        pass"
   ]
  },
  {
   "cell_type": "markdown",
   "metadata": {},
   "source": [
    "### Many to Many"
   ]
  },
  {
   "cell_type": "markdown",
   "metadata": {},
   "source": [
    "Finally, the last relationship to tackle is the many to many relatioship.  For example, a customer has many bartenders and a bartender has many customers.  These two entities are linked through our join table, here `orders`.  Let's think about what it would take for us to add an `bartenders` function to our customers table."
   ]
  },
  {
   "cell_type": "code",
   "execution_count": 22,
   "metadata": {},
   "outputs": [
    {
     "data": {
      "text/plain": [
       "{'id': 3, 'name': 'lisa simpson', 'hometown': 'philly'}"
      ]
     },
     "execution_count": 22,
     "metadata": {},
     "output_type": "execute_result"
    }
   ],
   "source": [
    "last_customer.__dict__"
   ]
  },
  {
   "cell_type": "markdown",
   "metadata": {},
   "source": [
    "Well, the only thing useful on our customer is the customer id.  We can use this by finding all of the orders whose customer_id matches the id on customer, and then getting the associated bartenders of those orders.  Ok, let's give it a shot."
   ]
  },
  {
   "cell_type": "code",
   "execution_count": 65,
   "metadata": {},
   "outputs": [],
   "source": [
    "class Customer:\n",
    "    __table__ = 'customers'\n",
    "    columns = ['id', 'name', 'hometown']\n",
    "    \n",
    "    def orders(self):\n",
    "        cursor.execute('SELECT * FROM orders WHERE orders.customer_id = ?;', (self.id,))\n",
    "        order_records = cursor.fetchall()\n",
    "        return build_from_records(Order, order_records)\n",
    "    \n",
    "    def bartenders(self):\n",
    "        cursor.execute(\"\"\"SELECT DISTINCT bartenders.*\n",
    "        FROM bartenders JOIN orders ON \n",
    "        orders.bartender_id = bartenders.id\n",
    "        WHERE orders.customer_id =  ?;\"\"\", (self.id,))\n",
    "        bartender_records = cursor.fetchall()\n",
    "        return build_from_records(Bartender, bartender_records)"
   ]
  },
  {
   "cell_type": "code",
   "execution_count": 66,
   "metadata": {},
   "outputs": [],
   "source": [
    "last_customer = build_from_record(Customer, last_customer_record)"
   ]
  },
  {
   "cell_type": "code",
   "execution_count": 67,
   "metadata": {},
   "outputs": [
    {
     "data": {
      "text/plain": [
       "[{'id': 3, 'name': 'patty', 'hometown': 'philly', 'birthyear': 1970}]"
      ]
     },
     "execution_count": 67,
     "metadata": {},
     "output_type": "execute_result"
    }
   ],
   "source": [
    "bartenders = last_customer.bartenders()\n",
    "\n",
    "[bartender.__dict__ for bartender in bartenders]"
   ]
  },
  {
   "cell_type": "code",
   "execution_count": null,
   "metadata": {},
   "outputs": [],
   "source": [
    "class Bartender:\n",
    "    __table__ = 'bartenders'\n",
    "    columns = ['id', 'name', 'hometown', 'birthyear']\n",
    "    \n",
    "    def orders(self):\n",
    "        pass"
   ]
  },
  {
   "cell_type": "markdown",
   "metadata": {},
   "source": [
    "### Summary"
   ]
  },
  {
   "cell_type": "markdown",
   "metadata": {},
   "source": [
    "In this lesson, we'll saw how to write a has many query and a many to many query.  With both queries, we start with the primary key, like `customers.id`, and find the relevant records on a separate table.  For example, to find the customers orders we wrote:"
   ]
  },
  {
   "cell_type": "code",
   "execution_count": 63,
   "metadata": {},
   "outputs": [],
   "source": [
    "class Customer:\n",
    "    __table__ = 'customers'\n",
    "    columns = ['id', 'name', 'hometown']\n",
    "    \n",
    "    def orders(self):\n",
    "        cursor.execute('SELECT * FROM orders WHERE orders.customer_id = ?;', (self.id,))\n",
    "        order_records = cursor.fetchall()\n",
    "        return build_from_records(Order, order_records)"
   ]
  },
  {
   "cell_type": "markdown",
   "metadata": {},
   "source": [
    "So when we call `customer.orders()`, we find the orders whose `customer_id` matches the id of the current `customer`.\n",
    "\n",
    "With our many to many relationship, we this time joined two different tables together.  We saw this with our `customer.bartenders()` function. "
   ]
  },
  {
   "cell_type": "code",
   "execution_count": 68,
   "metadata": {},
   "outputs": [],
   "source": [
    "def bartenders(self):\n",
    "        cursor.execute(\"\"\"SELECT DISTINCT bartenders.*\n",
    "        FROM bartenders JOIN orders ON \n",
    "        orders.bartender_id = bartenders.id\n",
    "        WHERE orders.customer_id =  ?;\"\"\", (self.id,))\n",
    "        bartender_records = cursor.fetchall()\n",
    "        return build_from_records(Bartender, bartender_records)"
   ]
  },
  {
   "cell_type": "markdown",
   "metadata": {},
   "source": [
    "We needed to return the relevant bartender records from our bartenders table, but found these records by finding the orders whose `customer_id` equaled our current customer's id."
   ]
  }
 ],
 "metadata": {
  "kernelspec": {
   "display_name": "Python 3 (ipykernel)",
   "language": "python",
   "name": "python3"
  },
  "language_info": {
   "codemirror_mode": {
    "name": "ipython",
    "version": 3
   },
   "file_extension": ".py",
   "mimetype": "text/x-python",
   "name": "python",
   "nbconvert_exporter": "python",
   "pygments_lexer": "ipython3",
   "version": "3.9.12"
  },
  "vscode": {
   "interpreter": {
    "hash": "31f2aee4e71d21fbe5cf8b01ff0e069b9275f58929596ceb00d14d90e3e16cd6"
   }
  }
 },
 "nbformat": 4,
 "nbformat_minor": 4
}
