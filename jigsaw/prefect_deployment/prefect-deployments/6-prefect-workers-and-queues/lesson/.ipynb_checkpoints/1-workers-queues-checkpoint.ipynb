{
 "cells": [
  {
   "cell_type": "markdown",
   "id": "cee40194-2059-400f-86fc-a061dccb4567",
   "metadata": {},
   "source": [
    "# Prefect Workers and Queues"
   ]
  },
  {
   "cell_type": "markdown",
   "id": "7a3427e7-cbb3-47fc-a774-4956f170388f",
   "metadata": {},
   "source": [
    "### Introduction"
   ]
  },
  {
   "cell_type": "markdown",
   "id": "601337cb-48f5-4423-b6b3-511af98e7eac",
   "metadata": {},
   "source": [
    "In the last lesson, we learned about setting up a deployment with prefect, and we saw how our deployment is associated with a particular flow, and our deployment schedules flow runs.\n",
    "\n",
    "In this lesson, we'll look a little bit deeper at that deployment.  As we'll see our deployment often creates a queue, and there will be a worker pool will allocate a worker to pull items off the queue. "
   ]
  },
  {
   "cell_type": "markdown",
   "id": "d42d51a1-52d6-4721-8afb-b52ac7eaf758",
   "metadata": {},
   "source": [
    "### Looking again at our deployment"
   ]
  },
  {
   "cell_type": "markdown",
   "id": "b2ce2073-f4e7-4a25-8ade-949a93683bad",
   "metadata": {},
   "source": [
    "If we run our current code -- `python3 index.py`, and then look at our prefect dashboard, we can see our the work that is scheduled to be performed."
   ]
  },
  {
   "cell_type": "markdown",
   "id": "8868aba6-7111-4b9b-9d39-7eec669651e3",
   "metadata": {},
   "source": [
    "<img src=\"./queue-runs.png\">"
   ]
  },
  {
   "cell_type": "markdown",
   "id": "a89f9b06-b14d-40d3-addb-74d0bbc9f9e5",
   "metadata": {},
   "source": [
    "This is a queue.  The queue stores the scheduled workflow-runs that are waiting to be run.  They're just stored in a table on prefect."
   ]
  },
  {
   "cell_type": "markdown",
   "id": "77ceea25-e7e7-42b6-958f-d127423ae3e8",
   "metadata": {},
   "source": [
    "To *perform* the work, prefect assigns the queue of work to a workpool, which contains *workers*, labeled 1 through 4 below.  "
   ]
  },
  {
   "cell_type": "markdown",
   "id": "ebaabaf4-9d5c-4b7d-91ad-16a7a320bcfa",
   "metadata": {},
   "source": [
    "<img src=\"./work-queue.png\" width=\"40%\">"
   ]
  },
  {
   "cell_type": "markdown",
   "id": "c453ead3-e8c2-4154-bae8-58958b7005ee",
   "metadata": {},
   "source": [
    "> Above you can see our scheduled workflows (items 1 - 3) in the queue.  And the pool of workers allocated for performing that work."
   ]
  },
  {
   "cell_type": "markdown",
   "id": "c8f04f96-3711-41ea-8745-f46a7a767197",
   "metadata": {},
   "source": [
    "At the scheduled time, a worker will be assigned the item, and execute the tasks in the workflow."
   ]
  },
  {
   "cell_type": "markdown",
   "id": "7114dcbc-2f7e-4107-89b5-ee0f72dcba02",
   "metadata": {},
   "source": [
    "<img src=\"./worker-assigned.png\" width=\"60%\">"
   ]
  },
  {
   "cell_type": "markdown",
   "id": "34ca3308-fd4e-468d-bed1-0e9a401f3009",
   "metadata": {},
   "source": [
    "> Above you can see the worker 1 is now executing item 1."
   ]
  },
  {
   "cell_type": "markdown",
   "id": "fd432842-4d08-4a0e-8214-ea0d06201b14",
   "metadata": {},
   "source": [
    "Where is this workpool in prefect?  Well in the prefect UI, you can see a representation of the workpool, if you click on the workpools tab."
   ]
  },
  {
   "cell_type": "markdown",
   "id": "33976ea4-f443-4224-a4f8-8756c3073f64",
   "metadata": {},
   "source": [
    "<img src=\"./prefect-workpool.png\" width=\"90%\">"
   ]
  },
  {
   "cell_type": "markdown",
   "id": "f4f3b32c-7521-4ff8-af0b-b7a003cd1119",
   "metadata": {},
   "source": [
    "But really, the work pool will live on our computer.  \n",
    "\n",
    "In other, words prefect will manage the *orchestration environment* on the cloud -- but we will have to pay for (or provide) the execution environment.  \n",
    "\n",
    "> If we were to deploy our prefect code to an AWS computer, then the execution environment would by default be that AWS computer."
   ]
  },
  {
   "cell_type": "markdown",
   "id": "5b00dd4c-08b3-4675-a89b-0816a9c61132",
   "metadata": {},
   "source": [
    "### Moving to Prefect"
   ]
  },
  {
   "cell_type": "markdown",
   "id": "26cc547a-5adc-4bea-92d6-48bb47e90ccc",
   "metadata": {},
   "source": [
    "Ok, so now we've learned that when we create a deployment, prefect will create a **queue** of workflow-runs to be performed, and a **worker pool** that assigns workers to execute them.  Now let's see how we can work with a queue and worker pools in prefect."
   ]
  },
  {
   "cell_type": "markdown",
   "id": "a3d7f50b-2868-4501-8e14-7283b840a756",
   "metadata": {},
   "source": [
    "### Creating a custom deployment"
   ]
  },
  {
   "cell_type": "markdown",
   "id": "df714a63-44d2-4df9-995e-ed5e1bbf8cb5",
   "metadata": {},
   "source": [
    "To specify a queue and worker pool, we'll have to change the way we create deployments.  So in the index.py file, comment out the lines using the get_restaurants.serve, and uncomment the `get_restaurants(\"HONDURAS MAYA CAFE & BAR LLC\")` call."
   ]
  },
  {
   "cell_type": "markdown",
   "id": "f18d9cdb-6142-4c38-8dd0-6f0b9f64094c",
   "metadata": {},
   "source": [
    "```python\n",
    "get_restaurants(\"HONDURAS MAYA CAFE & BAR LLC\")\n",
    "\n",
    "# if __name__ == \"__main__\":\n",
    "#     get_restaurants.serve(\n",
    "#         name=\"get-restaurants-deployment\",\n",
    "#         schedule=IntervalSchedule(interval=120),\n",
    "#         parameters={'url': \"HONDURAS MAYA CAFE & BAR LLC\"}\n",
    "#         )\n",
    "```"
   ]
  },
  {
   "cell_type": "markdown",
   "id": "55dc643c-3a97-49bd-baed-d077d2b610a3",
   "metadata": {},
   "source": [
    "And then we can create a `deployments.yaml` file with the following:"
   ]
  },
  {
   "cell_type": "markdown",
   "id": "52ae061e-2711-447b-89ae-65aee04e298d",
   "metadata": {},
   "source": [
    "```bash\n",
    "prefect deployment build ./index.py:get_restaurants -n get-restaurants -q tx-calls -p default-agent-pool\n",
    "```"
   ]
  },
  {
   "cell_type": "markdown",
   "id": "be8e5f5e-8528-4d74-9fa3-b4a72c1954cb",
   "metadata": {},
   "source": [
    "Ok, so this is how to make sense of the above command:\n",
    "\n",
    "* `prefect deployment build` is the standard command for building a deployment\n",
    "* `./index.py:get_data` specifies the location of the flow function -- the filename, followed by the function name\n",
    "* `-n queued-restaurants` specifies the deployment name.\n",
    "* `-q tx-calls` is the work pool for the deployment. Where a work pool directs scheduled runs to an agent (also known as a worker).\n",
    "* `-p` specifies the work pool name"
   ]
  },
  {
   "cell_type": "markdown",
   "id": "07d00e38-39d6-4014-8c0b-490d6199b83d",
   "metadata": {},
   "source": [
    "Ok here it is again."
   ]
  },
  {
   "cell_type": "markdown",
   "id": "10213e7e-c066-4cb3-a522-a9fe68dc6062",
   "metadata": {},
   "source": [
    "```\n",
    "prefect deployment build ./index.py:get_restaurants -n get-restaurants -q tx-calls -p default-agent-pool\n",
    "```"
   ]
  },
  {
   "cell_type": "markdown",
   "id": "bc74cfb3-6b95-4a1a-b3f0-8675e76c71b7",
   "metadata": {},
   "source": [
    "Now put the line above into your terminal. It creates a new file in our codebase called `get_restaurants-deployment.yaml`.  If you look through the new yaml file, you'll see some of our specifications, as well as other information that prefect filled in."
   ]
  },
  {
   "cell_type": "markdown",
   "id": "9a62b0e9-e46e-40c3-bb05-6b320b1486c1",
   "metadata": {},
   "source": [
    "```yaml\n",
    "###\n",
    "### A complete description of a Prefect Deployment for flow 'get-data'\n",
    "###\n",
    "name: get-restaurants\n",
    "description: null\n",
    "version: 1f5a2d8c7f74279cc07fbc62a533b808\n",
    "# The work queue that will handle this deployment's runs\n",
    "work_queue_name: tx-calls\n",
    "work_pool_name: default-agent-pool\n",
    "tags: []\n",
    "parameters: None\n",
    "....\n",
    "```"
   ]
  },
  {
   "cell_type": "markdown",
   "id": "d6255c27-e9c8-4eef-ad40-164f3505cc93",
   "metadata": {},
   "source": [
    "So notice that with the command above, with our deployment we have specified our `worker_pool_name`, and the `worker_queue_name`. "
   ]
  },
  {
   "cell_type": "markdown",
   "id": "c7a78dc3-c2bc-405b-8430-bf0f517f61e5",
   "metadata": {},
   "source": [
    "### Additional updates"
   ]
  },
  {
   "cell_type": "markdown",
   "id": "88a846e5-ed49-4317-b60d-e5ee921d9978",
   "metadata": {},
   "source": [
    "What we'll need to do is (1) update the parameters that get passed through the flow and (2) update the schedule."
   ]
  },
  {
   "cell_type": "markdown",
   "id": "4f7d6391-c853-44f5-86f7-a2e006e10a57",
   "metadata": {},
   "source": [
    "So for parameters, update the yaml file to look like the following:"
   ]
  },
  {
   "cell_type": "markdown",
   "id": "1d5a978c-dcd5-4e17-93b2-0a2f6b570dd6",
   "metadata": {},
   "source": [
    "```yaml\n",
    "work_pool_name: null\n",
    "tags: []\n",
    "parameters: {'url': 'HONDURAS MAYA CAFE & BAR LLC'}\n",
    "```"
   ]
  },
  {
   "cell_type": "markdown",
   "id": "d1ec3483-90d0-41eb-8033-79f052889ec4",
   "metadata": {},
   "source": [
    "And for the schedule change the following line:"
   ]
  },
  {
   "cell_type": "markdown",
   "id": "74817b87-c2be-4a2b-b0cc-8b94a1c45f52",
   "metadata": {},
   "source": [
    "```yaml\n",
    "schedule: null\n",
    "```"
   ]
  },
  {
   "cell_type": "markdown",
   "id": "683882e7-5614-49ad-89e6-4696dd70d079",
   "metadata": {},
   "source": [
    "To be the following:"
   ]
  },
  {
   "cell_type": "markdown",
   "id": "daae7230-4a41-4d49-9ebb-bfeec657fbe8",
   "metadata": {},
   "source": [
    "```yaml\n",
    "schedule:\n",
    "  interval: 100\n",
    "```"
   ]
  },
  {
   "cell_type": "markdown",
   "id": "5034c2b1-c545-42b5-ab8a-b162e3f08343",
   "metadata": {},
   "source": [
    "This will specify to run the deployment every 100 seconds."
   ]
  },
  {
   "cell_type": "markdown",
   "id": "a31e9c2d-6784-4607-ba38-9712a8ea8b8c",
   "metadata": {},
   "source": [
    "### Applying the deployment"
   ]
  },
  {
   "cell_type": "markdown",
   "id": "8505a9de-07ea-4eb6-b14a-101c5eb14fe9",
   "metadata": {},
   "source": [
    "Ok, now that we've updated the schedule and the parameters, it's time to *apply* the deployment.  Let's do so with by issuing the following CLI command from the terminal:"
   ]
  },
  {
   "cell_type": "markdown",
   "id": "7a488d7c-8a47-4c20-9b52-663ffa45b070",
   "metadata": {},
   "source": [
    "```bash\n",
    "prefect deployment apply get_restaurants-deployment.yaml\n",
    "```"
   ]
  },
  {
   "cell_type": "markdown",
   "id": "f1d66b53-5c13-495f-980c-2c8f35f0abda",
   "metadata": {},
   "source": [
    "Ok, so the above line sends our deployment to prefect."
   ]
  },
  {
   "cell_type": "markdown",
   "id": "2e52a940-aba1-495e-bc65-35204d2a7b7c",
   "metadata": {},
   "source": [
    "In the terminal, prefect will provide a link as to where to view the deployment.  So click on the link provided or copy and paste it into your browser."
   ]
  },
  {
   "cell_type": "markdown",
   "id": "6f33f696-ca06-4ed3-a434-6ed6bae5b9d2",
   "metadata": {},
   "source": [
    "<img src=\"./get-restaurants-flow.png\">"
   ]
  },
  {
   "cell_type": "markdown",
   "id": "bae8c22a-a3df-4b82-a09f-68ccd88128d3",
   "metadata": {},
   "source": [
    "And now if you go to this deployment, `get-restaurants`, you'll see over to the right that the workpool and work queue is now specified."
   ]
  },
  {
   "cell_type": "markdown",
   "id": "1023ca96-8a19-49c7-8d6e-6a5a3990e683",
   "metadata": {},
   "source": [
    "<img src=\"./deployment-details.png\">"
   ]
  },
  {
   "cell_type": "markdown",
   "id": "c2323e6d-3fd7-4792-b5fe-280f776f440d",
   "metadata": {},
   "source": [
    "### Starting the Work Pool"
   ]
  },
  {
   "cell_type": "markdown",
   "id": "eb6eb457-4a87-43dd-98d0-8a330813f9e3",
   "metadata": {},
   "source": [
    "The one issue remaining, is that the work pool is not currently running on our computer.  Remember: Prefect will provide the orchestration environment, but we will need to provide the execution environment for the workpool.  "
   ]
  },
  {
   "cell_type": "markdown",
   "id": "baeb4f03-51ef-4c43-81ac-0fb7bf47ae84",
   "metadata": {},
   "source": [
    "So place the following in the terminal, to start up the prefect pool."
   ]
  },
  {
   "cell_type": "markdown",
   "id": "5ba9c927-64fc-4e9b-90ec-fb9076f65569",
   "metadata": {},
   "source": [
    "`prefect agent start -p 'default-agent-pool'`"
   ]
  },
  {
   "cell_type": "markdown",
   "id": "8bfd8887-cba4-4b1e-b070-8f1b5ef81562",
   "metadata": {},
   "source": [
    "<img src=\"./workqueue.png\">"
   ]
  },
  {
   "cell_type": "markdown",
   "id": "a6de828f-cb45-449f-adcb-1492b99d3981",
   "metadata": {},
   "source": [
    "And also, click on the work pool tab in the prefect UI and make sure it is running."
   ]
  },
  {
   "cell_type": "markdown",
   "id": "46b4b627-e23b-4f29-b9fc-6d86ed43dde6",
   "metadata": {},
   "source": [
    "<img src=\"./turn-on.png\">"
   ]
  },
  {
   "cell_type": "markdown",
   "id": "155a3542-39ec-46ed-9c43-b6c2298e762a",
   "metadata": {},
   "source": [
    "Ok, now prefect should be able to take workflow-runs from the queue at the scheduled time and execute them."
   ]
  },
  {
   "cell_type": "markdown",
   "id": "27891893-3fda-4827-bb6c-f3cfc960ba7f",
   "metadata": {},
   "source": [
    "### Cleaning up"
   ]
  },
  {
   "cell_type": "markdown",
   "id": "47021d4d-e42c-4f8a-aa66-176766ad57d4",
   "metadata": {},
   "source": [
    "Finally, if we would like to stop a deployment, we can do so by going to prefect cloud, clicking on deployments and clicking on the button over to the right so that it is no longer green."
   ]
  },
  {
   "cell_type": "markdown",
   "id": "28279f89-449b-4fa2-bb10-3ca54a935c92",
   "metadata": {},
   "source": [
    "<img src=\"./deployment-pause.png\">"
   ]
  },
  {
   "cell_type": "markdown",
   "id": "a0c98d9e-f4c0-4d9a-a145-57f73eb685fc",
   "metadata": {},
   "source": [
    "Or we can also select our deployment and delete it."
   ]
  },
  {
   "cell_type": "markdown",
   "id": "c76bd2d2-553a-40ab-8317-160e1fb84291",
   "metadata": {},
   "source": [
    "<img src=\"./delete-dep.png\" width=\"\">"
   ]
  },
  {
   "cell_type": "markdown",
   "id": "794a647b-d877-4e5b-a2bb-9bad2239e982",
   "metadata": {},
   "source": [
    "### Summary"
   ]
  },
  {
   "cell_type": "markdown",
   "id": "4128afc6-4e73-4c57-a6bf-f79b16de33ea",
   "metadata": {},
   "source": [
    "In this lesson we saw how to schedule a flow with a deployment.  We did so by first creating our deployment yaml file."
   ]
  },
  {
   "cell_type": "markdown",
   "id": "09ae59a9-bb30-4957-a67a-e9c0d4f1cdf5",
   "metadata": {},
   "source": [
    "```bash\n",
    "prefect deployment build ./index.py:get_restaurants -n get-restaurants -q tx-calls -p default-agent-pool\n",
    "```"
   ]
  },
  {
   "cell_type": "markdown",
   "id": "d7725964-056d-43e0-aa2a-15345fbab983",
   "metadata": {},
   "source": [
    "And then we updated our deployment file's schedule and parameters values."
   ]
  },
  {
   "cell_type": "markdown",
   "id": "054e0bb5-9248-4998-a04c-0b5cd693b78d",
   "metadata": {},
   "source": [
    "```yaml\n",
    "schedule:\n",
    "  interval: 100\n",
    "```"
   ]
  },
  {
   "cell_type": "markdown",
   "id": "8938f609-ace1-4119-831d-44cc2f42b65f",
   "metadata": {},
   "source": [
    "```yaml\n",
    "parameters: {'url': 'HONDURAS MAYA CAFE & BAR LLC'}\n",
    "```"
   ]
  },
  {
   "cell_type": "markdown",
   "id": "6943f019-8869-4568-a9ef-c7136dd620e0",
   "metadata": {},
   "source": [
    "With this our flow will be run every 100 seconds, and the flow will be run with the url parameter passed through as an argument.\n",
    "\n",
    "We then applied the deployment."
   ]
  },
  {
   "cell_type": "markdown",
   "id": "a4bd830c-af9f-446c-9096-0aad025751bf",
   "metadata": {},
   "source": [
    "```bash\n",
    "prefect deployment apply get_data-deployment.yaml\n",
    "```\n",
    "\n",
    "And finally assigned a work pool for the deployment."
   ]
  },
  {
   "cell_type": "markdown",
   "id": "8b8d9ac0-bb61-4501-a418-fb090eefa5eb",
   "metadata": {},
   "source": [
    "```bash\n",
    "prefect agent start -p 'default-agent-pool'\n",
    "```"
   ]
  },
  {
   "cell_type": "markdown",
   "id": "611da1b2-20c2-4729-a7d4-45b1d3f4f06d",
   "metadata": {},
   "source": [
    "And then we also made sured that work pool was green in the UI."
   ]
  },
  {
   "cell_type": "markdown",
   "id": "396a2469-2b72-4c6c-a8c5-b6999ff389aa",
   "metadata": {},
   "source": [
    "<img src=\"./turn-on.png\">"
   ]
  }
 ],
 "metadata": {
  "kernelspec": {
   "display_name": "Python 3 (ipykernel)",
   "language": "python",
   "name": "python3"
  },
  "language_info": {
   "codemirror_mode": {
    "name": "ipython",
    "version": 3
   },
   "file_extension": ".py",
   "mimetype": "text/x-python",
   "name": "python",
   "nbconvert_exporter": "python",
   "pygments_lexer": "ipython3",
   "version": "3.10.13"
  }
 },
 "nbformat": 4,
 "nbformat_minor": 5
}
