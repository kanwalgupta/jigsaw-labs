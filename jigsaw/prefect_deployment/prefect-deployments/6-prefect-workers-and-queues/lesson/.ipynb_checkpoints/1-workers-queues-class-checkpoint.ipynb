{
 "cells": [
  {
   "cell_type": "markdown",
   "id": "cee40194-2059-400f-86fc-a061dccb4567",
   "metadata": {},
   "source": [
    "# Prefect Workers and Queues"
   ]
  },
  {
   "cell_type": "markdown",
   "id": "7a3427e7-cbb3-47fc-a774-4956f170388f",
   "metadata": {},
   "source": [
    "### Introduction"
   ]
  },
  {
   "cell_type": "markdown",
   "id": "601337cb-48f5-4423-b6b3-511af98e7eac",
   "metadata": {},
   "source": [
    "In the last lesson, we learned about setting up a deployment with prefect, and we saw how our deployment is associated with a particular flow, and our deployment schedules flow runs.\n",
    "\n",
    "In this lesson, we'll look a little bit deeper at that deployment.  As we'll see our deployment often creates a queue, and there will be a worker pool will allocate a worker to pull items off the queue. "
   ]
  },
  {
   "cell_type": "markdown",
   "id": "d42d51a1-52d6-4721-8afb-b52ac7eaf758",
   "metadata": {},
   "source": [
    "### Looking again at our deployment"
   ]
  },
  {
   "cell_type": "markdown",
   "id": "b2ce2073-f4e7-4a25-8ade-949a93683bad",
   "metadata": {},
   "source": [
    "If we run our current code -- `python3 index.py`, and then look at our prefect dashboard, we can see our the work that is scheduled to be performed."
   ]
  },
  {
   "cell_type": "markdown",
   "id": "8868aba6-7111-4b9b-9d39-7eec669651e3",
   "metadata": {},
   "source": [
    "<img src=\"./queue-runs.png\">"
   ]
  },
  {
   "cell_type": "markdown",
   "id": "a89f9b06-b14d-40d3-addb-74d0bbc9f9e5",
   "metadata": {},
   "source": [
    "This is a queue.  The queue stores the scheduled workflow-runs that are waiting to be run.  They're just stored in a table on prefect."
   ]
  },
  {
   "cell_type": "markdown",
   "id": "77ceea25-e7e7-42b6-958f-d127423ae3e8",
   "metadata": {},
   "source": [
    "To *perform* the work, prefect assigns the queue of work to a workpool, which contains *workers*, labeled 1 through 4 below.  "
   ]
  },
  {
   "cell_type": "markdown",
   "id": "ebaabaf4-9d5c-4b7d-91ad-16a7a320bcfa",
   "metadata": {},
   "source": [
    "<img src=\"./work-queue.png\" width=\"40%\">"
   ]
  },
  {
   "cell_type": "markdown",
   "id": "c453ead3-e8c2-4154-bae8-58958b7005ee",
   "metadata": {},
   "source": [
    "> Above you can see our scheduled workflows (items 1 - 3) in the queue.  And the pool of workers allocated for performing that work."
   ]
  },
  {
   "cell_type": "markdown",
   "id": "c8f04f96-3711-41ea-8745-f46a7a767197",
   "metadata": {},
   "source": [
    "At the scheduled time, a worker will be assigned the item, and execute the tasks in the workflow."
   ]
  },
  {
   "cell_type": "markdown",
   "id": "7114dcbc-2f7e-4107-89b5-ee0f72dcba02",
   "metadata": {},
   "source": [
    "<img src=\"./worker-assigned.png\" width=\"60%\">"
   ]
  },
  {
   "cell_type": "markdown",
   "id": "34ca3308-fd4e-468d-bed1-0e9a401f3009",
   "metadata": {},
   "source": [
    "> Above you can see the worker 1 is now executing item 1."
   ]
  },
  {
   "cell_type": "markdown",
   "id": "fd432842-4d08-4a0e-8214-ea0d06201b14",
   "metadata": {},
   "source": [
    "Where is this workpool in prefect?  Well in the prefect UI, you can see a representation of the workpool, if you click on the workpools tab."
   ]
  },
  {
   "cell_type": "markdown",
   "id": "33976ea4-f443-4224-a4f8-8756c3073f64",
   "metadata": {},
   "source": [
    "<img src=\"./prefect-workpool.png\" width=\"90%\">"
   ]
  },
  {
   "cell_type": "markdown",
   "id": "f4f3b32c-7521-4ff8-af0b-b7a003cd1119",
   "metadata": {},
   "source": [
    "But really, the work pool will live on our computer.  \n",
    "\n",
    "In other, words prefect will manage the *orchestration environment* on the cloud -- but we will have to pay for (or provide) the execution environment.  \n",
    "\n",
    "> If we were to deploy our prefect code to an AWS computer, then the execution environment would by default be that AWS computer."
   ]
  },
  {
   "cell_type": "markdown",
   "id": "5b00dd4c-08b3-4675-a89b-0816a9c61132",
   "metadata": {},
   "source": [
    "### Moving to Prefect"
   ]
  },
  {
   "cell_type": "markdown",
   "id": "26cc547a-5adc-4bea-92d6-48bb47e90ccc",
   "metadata": {},
   "source": [
    "Ok, so now we've learned that when we create a deployment, prefect will create a **queue** of workflow-runs to be performed, and a **worker pool** that assigns workers to execute them.  Now let's see how we can work with a queue and worker pools in prefect."
   ]
  },
  {
   "cell_type": "markdown",
   "id": "a3d7f50b-2868-4501-8e14-7283b840a756",
   "metadata": {},
   "source": [
    "### Creating a custom deployment"
   ]
  },
  {
   "cell_type": "markdown",
   "id": "df714a63-44d2-4df9-995e-ed5e1bbf8cb5",
   "metadata": {},
   "source": [
    "To specify a queue and worker pool, we'll have to change the way we create deployments.  So in the index.py file, comment out the lines using the get_restaurants.serve, and uncomment the `get_restaurants(\"HONDURAS MAYA CAFE & BAR LLC\")` call."
   ]
  },
  {
   "cell_type": "markdown",
   "id": "f18d9cdb-6142-4c38-8dd0-6f0b9f64094c",
   "metadata": {},
   "source": [
    "```python\n",
    "get_restaurants(\"HONDURAS MAYA CAFE & BAR LLC\")\n",
    "\n",
    "# if __name__ == \"__main__\":\n",
    "#     get_restaurants.serve(\n",
    "#         name=\"get-restaurants-deployment\",\n",
    "#         schedule=IntervalSchedule(interval=120),\n",
    "#         parameters={'url': \"HONDURAS MAYA CAFE & BAR LLC\"}\n",
    "#         )\n",
    "```"
   ]
  },
  {
   "cell_type": "markdown",
   "id": "55dc643c-3a97-49bd-baed-d077d2b610a3",
   "metadata": {},
   "source": [
    "And then we can create a deployment by adding the following:"
   ]
  },
  {
   "cell_type": "markdown",
   "id": "52289dab-accc-4a62-bc9c-da8c450d6394",
   "metadata": {},
   "source": [
    "```python\n",
    "\n",
    "from prefect.server.schemas.schedules import IntervalSchedule\n",
    "from prefect.deployments.deployments import Deployment\n",
    "# add the lines above to the top of the index.py file\n",
    "\n",
    "if __name__ == \"__main__\":\n",
    "    schedule = IntervalSchedule(interval=10)\n",
    "    parameters={'url': \"HONDURAS MAYA CAFE & BAR LLC\"}\n",
    "    deployment = Deployment.build_from_flow(\n",
    "        name=\"honduras_maya\",\n",
    "        flow=get_restaurants,\n",
    "        version=1,\n",
    "        schedule=schedule,\n",
    "        is_schedule_active=True,\n",
    "        work_queue_name=\"default\",\n",
    "        parameters=parameters,\n",
    "        entrypoint=\"./index.py:get_restaurants\",\n",
    "    )\n",
    "    deployment.apply(upload=True)\n",
    "```"
   ]
  },
  {
   "cell_type": "markdown",
   "id": "d6255c27-e9c8-4eef-ad40-164f3505cc93",
   "metadata": {},
   "source": [
    "So notice that with the command above, with our deployment we have specified our `worker_queue_name`.  We also, specified:\n",
    "\n",
    "* name: name of the deployment\n",
    "* flow: the function that called\n",
    "* version: the version of the api\n",
    "* schedule: the schedule active\n",
    "* the work queue name\n",
    "* the parameters to pass through\n",
    "* the location of our flow"
   ]
  },
  {
   "cell_type": "markdown",
   "id": "a31e9c2d-6784-4607-ba38-9712a8ea8b8c",
   "metadata": {},
   "source": [
    "### Applying the deployment"
   ]
  },
  {
   "cell_type": "markdown",
   "id": "9eeb74de-9a28-4d36-8ac7-8fed79cd5516",
   "metadata": {
    "tags": []
   },
   "source": [
    "At the end of our code above, we have the line:\n",
    "```python    \n",
    "deployment.apply(upload=True)\n",
    "```\n",
    "\n",
    "This will apply our deployment, once we run `python3 index.py`."
   ]
  },
  {
   "cell_type": "markdown",
   "id": "63042a53-9a7c-4329-91fb-ad4dd2e800f4",
   "metadata": {},
   "source": [
    "If you boot up the prefect webserver, and click on the deployments tab, you should see the listed deployment."
   ]
  },
  {
   "cell_type": "markdown",
   "id": "a344a5b0-a1d7-46e7-ac90-18a5b1e4a385",
   "metadata": {},
   "source": [
    "<img src=\"./deployment-new.png\">"
   ]
  },
  {
   "cell_type": "markdown",
   "id": "c2323e6d-3fd7-4792-b5fe-280f776f440d",
   "metadata": {},
   "source": [
    "### Starting the Work Pool"
   ]
  },
  {
   "cell_type": "markdown",
   "id": "eb6eb457-4a87-43dd-98d0-8a330813f9e3",
   "metadata": {},
   "source": [
    "The one issue remaining, is that the work pool is not currently running on our computer.  Remember: Prefect will provide the orchestration environment, but we will need to provide the execution environment for the workpool.  "
   ]
  },
  {
   "cell_type": "markdown",
   "id": "baeb4f03-51ef-4c43-81ac-0fb7bf47ae84",
   "metadata": {},
   "source": [
    "So place the following in the terminal, to start up the prefect pool."
   ]
  },
  {
   "cell_type": "markdown",
   "id": "5ba9c927-64fc-4e9b-90ec-fb9076f65569",
   "metadata": {},
   "source": [
    "`prefect agent start -p 'default-agent-pool'`"
   ]
  },
  {
   "cell_type": "markdown",
   "id": "8bfd8887-cba4-4b1e-b070-8f1b5ef81562",
   "metadata": {},
   "source": [
    "<img src=\"./workqueue.png\">"
   ]
  },
  {
   "cell_type": "markdown",
   "id": "a6de828f-cb45-449f-adcb-1492b99d3981",
   "metadata": {},
   "source": [
    "And also, click on the work pool tab in the prefect UI and make sure it is running."
   ]
  },
  {
   "cell_type": "markdown",
   "id": "46b4b627-e23b-4f29-b9fc-6d86ed43dde6",
   "metadata": {},
   "source": [
    "<img src=\"./turn-on.png\">"
   ]
  },
  {
   "cell_type": "markdown",
   "id": "155a3542-39ec-46ed-9c43-b6c2298e762a",
   "metadata": {},
   "source": [
    "Ok, now prefect should be able to take workflow-runs from the queue at the scheduled time and execute them."
   ]
  },
  {
   "cell_type": "markdown",
   "id": "27891893-3fda-4827-bb6c-f3cfc960ba7f",
   "metadata": {},
   "source": [
    "### Cleaning up"
   ]
  },
  {
   "cell_type": "markdown",
   "id": "47021d4d-e42c-4f8a-aa66-176766ad57d4",
   "metadata": {},
   "source": [
    "Finally, if we would like to stop a deployment, we can do so by going to prefect cloud, clicking on deployments and clicking on the button over to the right so that it is no longer green."
   ]
  },
  {
   "cell_type": "markdown",
   "id": "28279f89-449b-4fa2-bb10-3ca54a935c92",
   "metadata": {},
   "source": [
    "<img src=\"./pause-deployment.png\">"
   ]
  },
  {
   "cell_type": "markdown",
   "id": "a0c98d9e-f4c0-4d9a-a145-57f73eb685fc",
   "metadata": {},
   "source": [
    "Or we can also click on our deployment and then delete it."
   ]
  },
  {
   "cell_type": "markdown",
   "id": "9536d6fb-c677-4c44-8701-30f4e64aee2a",
   "metadata": {
    "tags": []
   },
   "source": [
    "<img src=\"./delete-deploy.png\">"
   ]
  },
  {
   "cell_type": "markdown",
   "id": "794a647b-d877-4e5b-a2bb-9bad2239e982",
   "metadata": {},
   "source": [
    "### Summary"
   ]
  },
  {
   "cell_type": "markdown",
   "id": "4128afc6-4e73-4c57-a6bf-f79b16de33ea",
   "metadata": {},
   "source": [
    "In this lesson we saw how to schedule a flow with a deployment.  We did so by using our Deployment class.\n",
    "\n"
   ]
  },
  {
   "cell_type": "markdown",
   "id": "5181bc13-1e71-4904-9aba-9d5b714a3831",
   "metadata": {},
   "source": [
    "```python\n",
    "if __name__ == \"__main__\":\n",
    "    schedule = IntervalSchedule(interval=10)\n",
    "    parameters={'url': \"HONDURAS MAYA CAFE & BAR LLC\"}\n",
    "    deployment = Deployment.build_from_flow(\n",
    "        name=\"honduras_maya\",\n",
    "        flow=get_restaurants,\n",
    "        version=1,\n",
    "        schedule=schedule,\n",
    "        is_schedule_active=True,\n",
    "        work_queue_name=\"default\",\n",
    "        parameters=parameters,\n",
    "        entrypoint=\"./index.py:get_restaurants\",\n",
    "    )\n",
    "    deployment.apply(upload=True)\n",
    "\n",
    "```"
   ]
  },
  {
   "cell_type": "markdown",
   "id": "b55de5e4-e467-4228-a725-0a92b935c22d",
   "metadata": {},
   "source": [
    "And then applying the deployment by running the script where we defined our deployment.  Finally, we started up a workpool to allocate to running our workflow."
   ]
  },
  {
   "cell_type": "markdown",
   "id": "8b8d9ac0-bb61-4501-a418-fb090eefa5eb",
   "metadata": {},
   "source": [
    "```bash\n",
    "prefect agent start -p 'default-agent-pool'\n",
    "```"
   ]
  },
  {
   "cell_type": "markdown",
   "id": "611da1b2-20c2-4729-a7d4-45b1d3f4f06d",
   "metadata": {},
   "source": [
    "And then we also made sured that work pool was green in the UI."
   ]
  },
  {
   "cell_type": "markdown",
   "id": "396a2469-2b72-4c6c-a8c5-b6999ff389aa",
   "metadata": {},
   "source": [
    "<img src=\"./turn-on.png\">"
   ]
  }
 ],
 "metadata": {
  "kernelspec": {
   "display_name": "Python 3 (ipykernel)",
   "language": "python",
   "name": "python3"
  },
  "language_info": {
   "codemirror_mode": {
    "name": "ipython",
    "version": 3
   },
   "file_extension": ".py",
   "mimetype": "text/x-python",
   "name": "python",
   "nbconvert_exporter": "python",
   "pygments_lexer": "ipython3",
   "version": "3.10.13"
  }
 },
 "nbformat": 4,
 "nbformat_minor": 5
}
