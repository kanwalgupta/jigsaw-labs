{
 "cells": [
  {
   "cell_type": "markdown",
   "id": "cee40194-2059-400f-86fc-a061dccb4567",
   "metadata": {},
   "source": [
    "# Workers and Queues"
   ]
  },
  {
   "cell_type": "markdown",
   "id": "7a3427e7-cbb3-47fc-a774-4956f170388f",
   "metadata": {},
   "source": [
    "### Introduction"
   ]
  },
  {
   "cell_type": "markdown",
   "id": "6773a6c1-e89d-4e43-84bb-d778d38bd35e",
   "metadata": {},
   "source": [
    "In the last lesson, we learned about setting up a deployment with prefect, and we saw how our deployment is associated with a particular flow, and that it schedules flow runs.\n",
    "\n",
    "In this lesson, we'll look a little bit deeper at "
   ]
  },
  {
   "cell_type": "markdown",
   "id": "0f2a2a76-8d51-4090-a91f-a5e1bb401451",
   "metadata": {},
   "source": [
    "### Starting with our Flow\n",
    "\n",
    "Ok, if you look at the current codebase, we have a flow that's defined in our `index.py` file, and the `get_data` function is our flow function."
   ]
  },
  {
   "cell_type": "markdown",
   "id": "b22b583e-53c2-495a-b0cd-77a356d023d8",
   "metadata": {},
   "source": [
    "```python\n",
    "import requests\n",
    "from prefect import flow, task\n",
    "\n",
    "@task\n",
    "def find_receipts(name):\n",
    "    url = \"https://data.texas.gov/resource/naix-2893.json\"\n",
    "    response = requests.get(url, params = {'taxpayer_name': name})\n",
    "    return response.json()[:1]\n",
    "\n",
    "@flow\n",
    "def get_restaurants(url: str):\n",
    "    receipts = find_receipts(url)\n",
    "    return receipts\n",
    "\n",
    "name = 'HONDURAS MAYA CAFE & BAR LLC'\n",
    "print(get_restaurants(name))\n",
    "```"
   ]
  },
  {
   "cell_type": "markdown",
   "id": "fc3afdd7-8575-496f-90a5-f6114724f812",
   "metadata": {},
   "source": [
    "```python\n",
    "@task\n",
    "def find_receipts(name):\n",
    "    url = \"https://data.texas.gov/resource/naix-2893.json\"\n",
    "    response = requests.get(url, params = {'taxpayer_name': name})\n",
    "    return response.json()[:1]\n",
    "\n",
    "@flow\n",
    "def get_data(url: str):\n",
    "    receipts = find_receipts(url)\n",
    "    return receipts\n",
    "\n",
    "name = 'HONDURAS MAYA CAFE & BAR LLC'\n",
    "print(get_data(name))\n",
    "```"
   ]
  },
  {
   "cell_type": "markdown",
   "id": "2dc107f7-58d1-4e2c-afa6-3ab1190cfa2f",
   "metadata": {},
   "source": [
    "### Creating a deployment"
   ]
  },
  {
   "cell_type": "markdown",
   "id": "bb79161d-703a-4e44-a53e-2fa86db8c7f0",
   "metadata": {},
   "source": [
    "Now it's time to create a deployment, which will allow us to schedule our workflow."
   ]
  },
  {
   "cell_type": "markdown",
   "id": "9cebbb34-6fa2-4a08-b12d-42d28f44bac1",
   "metadata": {},
   "source": [
    "To create a deployment, first make sure that your local prefect server is running.  Navigate to the prefect codebase and run the following."
   ]
  },
  {
   "cell_type": "markdown",
   "id": "f020563b-a6e2-4fb8-9569-446101b9f302",
   "metadata": {},
   "source": [
    "```bash\n",
    "prefect server start\n",
    "```"
   ]
  },
  {
   "cell_type": "markdown",
   "id": "55dc643c-3a97-49bd-baed-d077d2b610a3",
   "metadata": {},
   "source": [
    "And we can create our deployment file with the following."
   ]
  },
  {
   "cell_type": "markdown",
   "id": "52ae061e-2711-447b-89ae-65aee04e298d",
   "metadata": {},
   "source": [
    "```bash\n",
    "prefect deployment build ./index.py:get_data -n get-restaurants -q test\n",
    "```"
   ]
  },
  {
   "cell_type": "markdown",
   "id": "be8e5f5e-8528-4d74-9fa3-b4a72c1954cb",
   "metadata": {},
   "source": [
    "Ok, so this is how to make sense of the above command:\n",
    "\n",
    "* `prefect deployment build` is the standard command for building a deployment\n",
    "* `./index.py:get_data` specifies the location of the flow function -- the file followed by the name of the function\n",
    "* `-n get-restaurants-flow` specifies the deployment name.\n",
    "* `-q test` is the work pool for the deployment. Where a work pool directs scheduled runs to an agent."
   ]
  },
  {
   "cell_type": "markdown",
   "id": "10213e7e-c066-4cb3-a522-a9fe68dc6062",
   "metadata": {},
   "source": [
    "```\n",
    "prefect deployment build ./index.py:get_data -n get-restaurants -q test\n",
    "```"
   ]
  },
  {
   "cell_type": "markdown",
   "id": "b1fcfe1f-3fae-4abc-9505-b9857ef55425",
   "metadata": {},
   "source": [
    "Look at the command above, can you identify what each component means?"
   ]
  },
  {
   "cell_type": "markdown",
   "id": "bc74cfb3-6b95-4a1a-b3f0-8675e76c71b7",
   "metadata": {},
   "source": [
    "Now put the line above into your terminal. It creates a new file in our codebase called `get_data-deployment.yaml`.  If you look through the new yaml file, you'll see some of our specifications, as well as other information that prefect filled in."
   ]
  },
  {
   "cell_type": "markdown",
   "id": "9a62b0e9-e46e-40c3-bb05-6b320b1486c1",
   "metadata": {},
   "source": [
    "```yaml\n",
    "###\n",
    "### A complete description of a Prefect Deployment for flow 'get-data'\n",
    "###\n",
    "name: get-restaurants\n",
    "description: null\n",
    "version: 1f5a2d8c7f74279cc07fbc62a533b808\n",
    "# The work queue that will handle this deployment's runs\n",
    "work_queue_name: test\n",
    "work_pool_name: null\n",
    "tags: []\n",
    "parameters: None\n",
    "....\n",
    "```"
   ]
  },
  {
   "cell_type": "markdown",
   "id": "37842a61-baf2-4caa-98d8-63ac4b553566",
   "metadata": {},
   "source": [
    "### Adding a schedule"
   ]
  },
  {
   "cell_type": "markdown",
   "id": "a86759f5-7396-446d-904d-4ad577aab51d",
   "metadata": {},
   "source": [
    "Ok, so our CLI command filled in a lot of info for our deployment, but one key attribute that is still not filled in is a [schedule](https://docs.prefect.io/2.10.12/concepts/schedules/).  The schedule indicates how often we would like this deployment to be run.  So let's take a look at it.  We currently see that the `schedule` attribute in our deployment yaml is set to the following:"
   ]
  },
  {
   "cell_type": "markdown",
   "id": "74817b87-c2be-4a2b-b0cc-8b94a1c45f52",
   "metadata": {},
   "source": [
    "```yaml\n",
    "schedule: null\n",
    "```"
   ]
  },
  {
   "cell_type": "markdown",
   "id": "683882e7-5614-49ad-89e6-4696dd70d079",
   "metadata": {},
   "source": [
    "To the following:"
   ]
  },
  {
   "cell_type": "markdown",
   "id": "daae7230-4a41-4d49-9ebb-bfeec657fbe8",
   "metadata": {},
   "source": [
    "```yaml\n",
    "schedule:\n",
    "  interval: 60\n",
    "```"
   ]
  },
  {
   "cell_type": "markdown",
   "id": "5034c2b1-c545-42b5-ab8a-b162e3f08343",
   "metadata": {},
   "source": [
    "This will specify to run the deployment every 60 seconds."
   ]
  },
  {
   "cell_type": "markdown",
   "id": "589d4f53-471d-4516-b51c-7d5d7ef464ed",
   "metadata": {},
   "source": [
    "### Adding a parameter"
   ]
  },
  {
   "cell_type": "markdown",
   "id": "8b16e0c3-3d31-4a91-9393-e6c46cc4d149",
   "metadata": {},
   "source": [
    "We're almost ready to apply our deployment, but it turns out our flow will currently break.  If you look at our flow, you'll see that it takes an argument of the url."
   ]
  },
  {
   "cell_type": "markdown",
   "id": "5c7fb8e5-a518-4c51-be82-f90f2ac515e1",
   "metadata": {},
   "source": [
    "```python\n",
    "@flow\n",
    "def get_data(url: str):\n",
    "    receipts = find_receipts(url)\n",
    "    return receipts\n",
    "```"
   ]
  },
  {
   "cell_type": "markdown",
   "id": "209246c6-8451-4329-b807-5459491f688a",
   "metadata": {},
   "source": [
    "So we'll want our flow function `get_data` to get called with an argument for the url.  We can make sure it is by updating the deployment file's `parameters` attribute."
   ]
  },
  {
   "cell_type": "markdown",
   "id": "c3e63618-8de6-4525-9ca0-b33c97857744",
   "metadata": {},
   "source": [
    "```yaml\n",
    "parameters: {'url': 'HONDURAS MAYA CAFE & BAR LLC'}\n",
    "```"
   ]
  },
  {
   "cell_type": "markdown",
   "id": "cbc0af9b-c1e7-41e3-8fb4-08eac3efded0",
   "metadata": {},
   "source": [
    "This will invoke our flow function with a url value of the Honduras string."
   ]
  },
  {
   "cell_type": "markdown",
   "id": "a31e9c2d-6784-4607-ba38-9712a8ea8b8c",
   "metadata": {},
   "source": [
    "### Applying the deployment"
   ]
  },
  {
   "cell_type": "markdown",
   "id": "8505a9de-07ea-4eb6-b14a-101c5eb14fe9",
   "metadata": {},
   "source": [
    "Ok, now that we've updated the schedule and the parameters, it's time to apply the deployment.  Let's do so with by issuing the following CLI command from the terminal:"
   ]
  },
  {
   "cell_type": "markdown",
   "id": "7a488d7c-8a47-4c20-9b52-663ffa45b070",
   "metadata": {},
   "source": [
    "```bash\n",
    "prefect deployment apply get_data-deployment.yaml\n",
    "```"
   ]
  },
  {
   "cell_type": "markdown",
   "id": "2e52a940-aba1-495e-bc65-35204d2a7b7c",
   "metadata": {},
   "source": [
    "In the terminal prefect will provide a link as to where to view the deployment.  So click on the link provided or copy and paste it into your browser."
   ]
  },
  {
   "cell_type": "markdown",
   "id": "6f33f696-ca06-4ed3-a434-6ed6bae5b9d2",
   "metadata": {},
   "source": [
    "<img src=\"./get-restaurants-flow.png\">"
   ]
  },
  {
   "cell_type": "markdown",
   "id": "be5ca08d-b285-4396-ac27-16ce2c5a7807",
   "metadata": {},
   "source": [
    "The link should take you to the deployments dashboard in prefect.io.  \n",
    "\n",
    "> If it doesn't, just go there by logging into `prefect.io`, going to your workspace and clicking on deployments."
   ]
  },
  {
   "cell_type": "markdown",
   "id": "05874516-acf9-4250-8a48-4edbe54d8636",
   "metadata": {},
   "source": [
    "<img src=\"./deployments.png\">"
   ]
  },
  {
   "cell_type": "markdown",
   "id": "34048111-2ca9-4044-8da4-903c86183aa1",
   "metadata": {},
   "source": [
    "And you can see information about the deployment if you then click on the name of the deployment."
   ]
  },
  {
   "cell_type": "markdown",
   "id": "9127ec06-82c6-457d-97d0-455a8ac1c0ca",
   "metadata": {},
   "source": [
    "> Eventually, we'll see it's unhealthy."
   ]
  },
  {
   "cell_type": "markdown",
   "id": "5eb31d65-6f18-409d-b8b3-5d9aad4e6379",
   "metadata": {},
   "source": [
    "<img src=\"./deployments-work.png\">"
   ]
  },
  {
   "cell_type": "markdown",
   "id": "ee1b7a65-6b12-4b8e-a506-02543919313c",
   "metadata": {},
   "source": [
    "And if we want, we can even try to kick off a deployment-run by clicking the run function on the top right."
   ]
  },
  {
   "cell_type": "code",
   "execution_count": null,
   "id": "d011ee28-efd0-40db-966a-68cff298823c",
   "metadata": {},
   "outputs": [],
   "source": [
    "prefect agent start --pool default-agent-pool --work-queue test"
   ]
  },
  {
   "cell_type": "markdown",
   "id": "fcf07741-2b39-49f4-bbf6-9490bfb9517d",
   "metadata": {},
   "source": [
    "The issue is that we need to assign a work pool that will handle this deployment."
   ]
  },
  {
   "cell_type": "markdown",
   "id": "8bfd8887-cba4-4b1e-b070-8f1b5ef81562",
   "metadata": {},
   "source": [
    "<img src=\"./workqueue.png\">"
   ]
  },
  {
   "cell_type": "markdown",
   "id": "cf4c1e7a-ffe3-4d20-a20e-cd441600585e",
   "metadata": {},
   "source": [
    "Ok, so now our deployment is working.  And it's running our flow every minute."
   ]
  },
  {
   "cell_type": "markdown",
   "id": "47021d4d-e42c-4f8a-aa66-176766ad57d4",
   "metadata": {},
   "source": [
    "Finally, if we would like to stop a deployment, we can do so by going to prefect cloud, clicking on deployments and clicking on the button over to the right so that it is no longer green."
   ]
  },
  {
   "cell_type": "markdown",
   "id": "28279f89-449b-4fa2-bb10-3ca54a935c92",
   "metadata": {},
   "source": [
    "<img src=\"./deployment-pause.png\">"
   ]
  },
  {
   "cell_type": "markdown",
   "id": "794a647b-d877-4e5b-a2bb-9bad2239e982",
   "metadata": {},
   "source": [
    "### Summary"
   ]
  },
  {
   "cell_type": "markdown",
   "id": "4128afc6-4e73-4c57-a6bf-f79b16de33ea",
   "metadata": {},
   "source": [
    "In this lesson we saw how to schedule a flow with a deployment.  We did so by first creating our deployment yaml file."
   ]
  },
  {
   "cell_type": "markdown",
   "id": "09ae59a9-bb30-4957-a67a-e9c0d4f1cdf5",
   "metadata": {},
   "source": [
    "```bash\n",
    "prefect deployment build ./index.py:get_data -n get-restaurants -q test\n",
    "```"
   ]
  },
  {
   "cell_type": "markdown",
   "id": "d7725964-056d-43e0-aa2a-15345fbab983",
   "metadata": {},
   "source": [
    "And then we updated our deployment file's schedule and parameters values."
   ]
  },
  {
   "cell_type": "markdown",
   "id": "054e0bb5-9248-4998-a04c-0b5cd693b78d",
   "metadata": {},
   "source": [
    "```yaml\n",
    "schedule:\n",
    "  interval: 60\n",
    "```"
   ]
  },
  {
   "cell_type": "markdown",
   "id": "8938f609-ace1-4119-831d-44cc2f42b65f",
   "metadata": {},
   "source": [
    "```yaml\n",
    "parameters: {'url': 'HONDURAS MAYA CAFE & BAR LLC'}\n",
    "```"
   ]
  },
  {
   "cell_type": "markdown",
   "id": "6943f019-8869-4568-a9ef-c7136dd620e0",
   "metadata": {},
   "source": [
    "With this our flow will be run every 60 seconds, and the flow will be run with the url parameter passed through as an argument.\n",
    "\n",
    "We then applied the deployment."
   ]
  },
  {
   "cell_type": "markdown",
   "id": "a4bd830c-af9f-446c-9096-0aad025751bf",
   "metadata": {},
   "source": [
    "```bash\n",
    "prefect deployment apply get_data-deployment.yaml\n",
    "```\n",
    "\n",
    "And finally assigned a work pool for the deployment."
   ]
  },
  {
   "cell_type": "markdown",
   "id": "8b8d9ac0-bb61-4501-a418-fb090eefa5eb",
   "metadata": {},
   "source": [
    "```bash\n",
    "prefect agent start --pool default-agent-pool --work-queue test\n",
    "```"
   ]
  }
 ],
 "metadata": {
  "kernelspec": {
   "display_name": "Python 3 (ipykernel)",
   "language": "python",
   "name": "python3"
  },
  "language_info": {
   "codemirror_mode": {
    "name": "ipython",
    "version": 3
   },
   "file_extension": ".py",
   "mimetype": "text/x-python",
   "name": "python",
   "nbconvert_exporter": "python",
   "pygments_lexer": "ipython3",
   "version": "3.9.12"
  }
 },
 "nbformat": 4,
 "nbformat_minor": 5
}
