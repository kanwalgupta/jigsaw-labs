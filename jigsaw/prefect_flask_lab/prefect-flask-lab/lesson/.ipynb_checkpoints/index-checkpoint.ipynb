{
 "cells": [
  {
   "cell_type": "markdown",
   "id": "4b975534-11c6-4b51-9593-2d5475e21afc",
   "metadata": {},
   "source": [
    "# Prefect Flask Lab"
   ]
  },
  {
   "cell_type": "markdown",
   "id": "5b121b2a-d523-44ad-92de-1e02cc7ece8e",
   "metadata": {},
   "source": [
    "### Introduction"
   ]
  },
  {
   "cell_type": "markdown",
   "id": "f34a72fd-5fde-4d4a-bafa-1113f967b5f3",
   "metadata": {},
   "source": [
    "In this lesson, we'll connect a flask API to our spotify database."
   ]
  },
  {
   "cell_type": "markdown",
   "id": "5e64a7b4-ed1a-443d-9744-46d1131ef458",
   "metadata": {},
   "source": [
    "### Getting oriented"
   ]
  },
  {
   "cell_type": "markdown",
   "id": "ad092282-f76e-4a82-8929-a02b0867a67a",
   "metadata": {},
   "source": [
    "Notice that we have added ** another** db file, in the api folder.  *That* db file has both a `conn` object that connects to our database.  And we also have an api folder.  That's where we'll build our Flask API.\n",
    "\n",
    "1. Building a model\n",
    "\n",
    "* Our first step is to build a model for `Track`.  You can confirm that it's working by going to the console, and running the `find_all(Track, cursor)` code from the console.  \n",
    "\n",
    "This should return a list of all of the tracks in the database.\n",
    "\n",
    "2. Building a flask api\n",
    "\n",
    "* Next go to the api/src/__init__.py file.  That's where we'll build out the flask routes.  \n",
    "\n",
    "    * Root url - Begin by setting up a root url that returns the text 'Welcome to Spotify Tracker'\n",
    "    \n",
    "    * `/tracks` - Returns a list of all of the tracks in the database (should be a list of dictionaries)\n",
    "    \n",
    "    * `'/recent_tracks'` - Returns a unique list of recent tracks in the past week.  To implement this, first create a class method that called `recent_tracks`, that returns a list of **instances**, representing those tracks making the top fifty list in the last week."
   ]
  },
  {
   "cell_type": "markdown",
   "id": "0b213109-b5c8-4b6e-868d-2eac95fba92f",
   "metadata": {},
   "source": [
    "### Bonus"
   ]
  },
  {
   "cell_type": "markdown",
   "id": "98ece557-0930-4038-a858-fe3eea655383",
   "metadata": {},
   "source": [
    "Notice that we have a frontend folder.  If you boot up the flask app, and then in a different tab, navigate to the frontend folder and run the following:\n",
    "\n",
    "`streamlit run index.py`\n",
    "\n",
    "You should see the json from our flask api.  \n",
    "\n",
    "So this streamlit app is connected.  Can you now add a more interesting visualization?  \n",
    "\n",
    "> Don't say no.\n",
    "\n",
    "For example, what if we had a chart of the all of the songs_ids, and the total number of times they were in our top tracks.  \n",
    "\n",
    "> You can first try to implement this in a jupyter notebook, and then implement something similar in streamlit with the `st.plotly_chart` function."
   ]
  },
  {
   "cell_type": "markdown",
   "id": "4f47ed95-1a93-43fc-a9f4-dd0994e19851",
   "metadata": {
    "tags": []
   },
   "source": [
    "### Resources\n",
    "\n",
    "[Jeff Hale - Deployments](https://medium.com/the-prefect-blog/deploy-prefect-pipelines-with-python-perfect-68c944a3a89f)"
   ]
  },
  {
   "cell_type": "markdown",
   "id": "fc250cab-da27-4576-8856-d9c5a84ae9d0",
   "metadata": {},
   "source": [
    "[Kevin Kho](https://medium.com/the-prefect-blog/the-simple-guide-to-productionizing-data-workflows-with-docker-31a5aae67c0a)"
   ]
  },
  {
   "cell_type": "markdown",
   "id": "1d0a4e9f-246b-44d1-907f-bc4c527594e0",
   "metadata": {},
   "source": [
    "[Creating a Deployment](https://discourse.prefect.io/t/error-when-creating-a-deployment-with-the-cli-modulenotfound/2426/4)"
   ]
  },
  {
   "cell_type": "markdown",
   "id": "bd874f9a-9f77-47db-8d65-cf36d0af851c",
   "metadata": {},
   "source": [
    "[Sample deployment](https://github.com/PrefectHQ/prefect/issues/8710)"
   ]
  }
 ],
 "metadata": {
  "kernelspec": {
   "display_name": "Python 3 (ipykernel)",
   "language": "python",
   "name": "python3"
  },
  "language_info": {
   "codemirror_mode": {
    "name": "ipython",
    "version": 3
   },
   "file_extension": ".py",
   "mimetype": "text/x-python",
   "name": "python",
   "nbconvert_exporter": "python",
   "pygments_lexer": "ipython3",
   "version": "3.10.13"
  }
 },
 "nbformat": 4,
 "nbformat_minor": 5
}
