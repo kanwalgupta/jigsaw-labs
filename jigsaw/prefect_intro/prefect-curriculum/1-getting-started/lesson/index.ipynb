{
 "cells": [
  {
   "cell_type": "markdown",
   "id": "c56f8c1d-6ea3-4916-a81d-d8ae544e99dd",
   "metadata": {},
   "source": [
    "# Getting Started with Prefect"
   ]
  },
  {
   "cell_type": "markdown",
   "id": "db1e791d-cb9d-4335-8760-e7a736d49ae0",
   "metadata": {},
   "source": [
    "### Introduction"
   ]
  },
  {
   "cell_type": "markdown",
   "id": "2f1a5776-86fa-439f-bfd5-7639b11147d5",
   "metadata": {},
   "source": [
    "Prefect is popular workflow manager, which will allow us to schedule different services, as well as monitor their execution.\n",
    "\n",
    "Let's dive in so we can begin to see how it works."
   ]
  },
  {
   "cell_type": "markdown",
   "id": "84462eac-872c-4529-b270-0d854cc535f3",
   "metadata": {},
   "source": [
    "### Installing Prefect"
   ]
  },
  {
   "cell_type": "markdown",
   "id": "eb501612-cb90-4863-8043-4f34b6c097b9",
   "metadata": {},
   "source": [
    "The first task for us to do is to install prefect.  Move inside of the `src` directory, and the run the `requirements.txt` file.\n",
    "\n",
    "> **Note**: ideally, we should create a new environment first.\n",
    "\n",
    "* `python -m venv ./venv`\n",
    "* `source ./venv bin/activate`\n",
    "\n",
    "And then run the following to install our prefect library.\n",
    "\n",
    "`pip install -r requirements.txt`\n",
    "\n",
    "Then take a look at our index file.  There you will see the following:"
   ]
  },
  {
   "cell_type": "markdown",
   "id": "a4185cc5-de5d-4d2e-bb90-bdefbb40e91b",
   "metadata": {},
   "source": [
    "```python\n",
    "import requests\n",
    "import pandas as pd\n",
    "from prefect import flow, task\n",
    "\n",
    "# @task\n",
    "def find_receipts(name):\n",
    "    url = \"https://data.texas.gov/resource/naix-2893.json\"\n",
    "    response = requests.get(url, params = {'taxpayer_name': name})\n",
    "    return response.json()\n",
    "\n",
    "# @task\n",
    "def write_to_csv(data):\n",
    "    df = pd.DataFrame(data)\n",
    "    df.to_csv('./data/receipts.csv')\n",
    "\n",
    "# @flow\n",
    "def get_and_write_data(name):\n",
    "    receipts = find_receipts(name)\n",
    "    df = write_to_csv(receipts)\n",
    "    return df\n",
    "\n",
    "name = 'HONDURAS MAYA CAFE & BAR LLC'\n",
    "get_and_write_data(name)\n",
    "```"
   ]
  },
  {
   "cell_type": "markdown",
   "id": "9641f6bd-524c-439b-9a7b-3d9738b86a55",
   "metadata": {},
   "source": [
    "You can see that, ignoring the comments, we have some normal Python code.  It starts at the bottom, with a call to `get_and_write_data`, which then calls the `find_receipts` and `write_to_csv`.  If you run this file with `python3 index.py`, you'll see the code is run."
   ]
  },
  {
   "cell_type": "markdown",
   "id": "e972d985-f842-49ee-a220-6da998e38753",
   "metadata": {},
   "source": [
    "### Moving to Prefect"
   ]
  },
  {
   "cell_type": "markdown",
   "id": "1d2df9ac-e643-47de-bc5e-9f40772a45fe",
   "metadata": {},
   "source": [
    "To change this to prefect code, just uncomment the decorators (`@flow` and `@task` words)."
   ]
  },
  {
   "cell_type": "markdown",
   "id": "dabc1ad7-202b-4e93-8acb-7e0f58b06c75",
   "metadata": {},
   "source": [
    "\n",
    "```python\n",
    "from prefect import flow, task\n",
    "\n",
    "@flow\n",
    "def get_and_write_data(url):\n",
    "    ...\n",
    "\n",
    "@task\n",
    "def find_receipts(name):\n",
    "    ...\n",
    "    \n",
    "@task\n",
    "def write_to_csv(data)\n",
    "    ...\n",
    "    \n",
    "name = 'HONDURAS MAYA CAFE & BAR LLC'\n",
    "print(get_and_write_data(name))\n",
    "```"
   ]
  },
  {
   "cell_type": "markdown",
   "id": "5d09b015-7072-4fb1-8e5d-798f4efcd963",
   "metadata": {},
   "source": [
    "Now that we added the decorators, the `get_and_write_data` function is now a **flow**, which then calls the `find_receipts` **task**. \n",
    "\n",
    "So a **flow** is really a `workflow`.  And a flow has many **tasks**, where a task is a discrete unit of work in a workflow.  \n",
    "\n",
    "> **Comparing to Airflow**: In airflow the organization is very similar -- except we have a DAG (directed acyclic graph) and a dag has many tasks.  So both tools use the word tasks, and the overall workflow is described as a DAG (in airflow) and a flow (in prefect).  "
   ]
  },
  {
   "cell_type": "markdown",
   "id": "395ab1b5-8566-435d-bc60-b8b46435fc87",
   "metadata": {},
   "source": [
    "Now let's run this code again.  We can do so like we did before.\n",
    "\n",
    "```bash\n",
    "python3 index.py\n",
    "```"
   ]
  },
  {
   "cell_type": "markdown",
   "id": "e41d7311-e455-431b-b905-82268d696fb2",
   "metadata": {},
   "source": [
    "<img src=\"./flow-run.png\" width=\"100%\">"
   ]
  },
  {
   "cell_type": "markdown",
   "id": "b9397424-0475-4695-acac-162630813b9b",
   "metadata": {},
   "source": [
    "We can see that unlike with a python script, our flows and tasks log a lot of information.  Running the flow creates a **flow run** above named `hypnotica-jackal` -- just a random generated name.  And that flow run has a **task run** of the `find-receipts` task.\n",
    "\n",
    "> So to review, a **flow** has many **tasks**.  \n",
    "> And an individual run is called a `flow-run` which has many `task-runs`.\n",
    "\n",
    "These flow runs, and task runs are logged, and this is an essential part of what prefect offers.  These logs will make it easier to see what occurs, when something inevitably goes wrong in our data pipeline."
   ]
  },
  {
   "cell_type": "markdown",
   "id": "57542a53-e698-4257-b405-e754789c2973",
   "metadata": {},
   "source": [
    "It turns out that prefect also allows us to *view* these runs in a dashboard, just like a tool like airflow.  But we'll see that in the next lesson."
   ]
  },
  {
   "cell_type": "markdown",
   "id": "73503274-49e2-4a26-a96c-bdf36cac4a1a",
   "metadata": {},
   "source": [
    "### Summary"
   ]
  },
  {
   "cell_type": "markdown",
   "id": "7f267ad0-228d-4715-8493-34d4e0c5bf34",
   "metadata": {},
   "source": [
    "In this lesson, we learned about prefect -- a workflow manager.  The first concept we learned about in prefect is a flow, which has many tasks.  And which is defined like so. "
   ]
  },
  {
   "cell_type": "markdown",
   "id": "6f4dc060-5d75-4c97-af06-b08d439674a9",
   "metadata": {},
   "source": [
    "```python\n",
    "from prefect import flow, task\n",
    "\n",
    "@flow\n",
    "def get_and_write_data(url):\n",
    "    pass\n",
    "\n",
    "@task\n",
    "def find_receipts(name):\n",
    "    pass\n",
    "\n",
    "name = 'HONDURAS MAYA CAFE & BAR LLC'\n",
    "print(get_data(name))\n",
    "```"
   ]
  },
  {
   "cell_type": "markdown",
   "id": "79a92708-3cd8-437b-8743-3927cc49c6c5",
   "metadata": {},
   "source": [
    "We can run this workflow by just running the file.\n",
    "\n",
    "`python3 index.py`\n",
    "\n",
    "This will create a `flow-run` and a `flow-run` has many `task-runs`.  Prefect will log each of these runs in it's database."
   ]
  },
  {
   "cell_type": "markdown",
   "id": "ecd9a9ae-689d-4106-b9c4-17ca1f9aca52",
   "metadata": {},
   "source": [
    "### Resources\n",
    "\n",
    "[Prefect with Lambda and Snowflake](https://www.dataknowsall.com/prefectintro.html)"
   ]
  }
 ],
 "metadata": {
  "kernelspec": {
   "display_name": "Python 3 (ipykernel)",
   "language": "python",
   "name": "python3"
  },
  "language_info": {
   "codemirror_mode": {
    "name": "ipython",
    "version": 3
   },
   "file_extension": ".py",
   "mimetype": "text/x-python",
   "name": "python",
   "nbconvert_exporter": "python",
   "pygments_lexer": "ipython3",
   "version": "3.9.12"
  }
 },
 "nbformat": 4,
 "nbformat_minor": 5
}
