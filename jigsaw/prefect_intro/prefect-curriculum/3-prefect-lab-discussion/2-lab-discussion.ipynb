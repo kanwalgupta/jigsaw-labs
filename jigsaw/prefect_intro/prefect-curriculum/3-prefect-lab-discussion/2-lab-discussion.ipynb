{
 "cells": [
  {
   "cell_type": "markdown",
   "id": "824b9036-7ee8-4bac-b02c-ab0660e4753e",
   "metadata": {},
   "source": [
    "### Lab Discussion"
   ]
  },
  {
   "cell_type": "markdown",
   "id": "f4317e62-6214-43c6-a7b5-49deda77bd9c",
   "metadata": {},
   "source": [
    "Ok, so now that you successfully setup prefect in the previous lab, there are a couple of points we want to highlight."
   ]
  },
  {
   "cell_type": "markdown",
   "id": "3234fbb2-e722-4d2b-9c60-506354582f87",
   "metadata": {},
   "source": [
    "#### 1. Isolate your dependencies\n",
    "\n",
    "The most important component to how we set up our prefect code was to isolate our codebase from prefect.  Prefect is a complicated tool -- all workflow managers are, and we can simplify our code by isolating our codebase from prefect. This means that each task only calls a single prefect function.\n",
    "\n",
    "* The benefits\n",
    "\n",
    "There are many practical benefits to this.\n",
    "\n",
    "1. We can change our workflow manager\n",
    "\n",
    "* What if we decide that we want to move from prefect, to airflow, or another tool like Dagster.  Notice that our code modifications are minimal, we just have to change the code in the `spotify_workflow` file."
   ]
  },
  {
   "cell_type": "markdown",
   "id": "0a781de1-257a-4f68-8f0f-8401a29c77ac",
   "metadata": {},
   "source": [
    "2. We can write tests\n",
    "\n",
    "* Notice that we were able to run pytest, and could use pytest through almost our entire codebase (everything but prefect).  As we know, having tests are crucial.\n",
    "\n",
    "3. We can debug\n",
    "\n",
    "Try hitting a breakpoint inside of a task -- it won't work.  By having our logic outside of our workflow manager, we get access to all of our debuging tools."
   ]
  },
  {
   "cell_type": "markdown",
   "id": "95a32a9c-c0af-47ef-859b-7f486a9763d8",
   "metadata": {},
   "source": [
    "4. It's simpler \n",
    "\n",
    "Finally, to say it again, we can develop our code, without having to worry about prefect.  We only integrate our code with prefect at the very end."
   ]
  },
  {
   "cell_type": "markdown",
   "id": "f5f146aa-0263-4631-b3b2-546b467ca7a9",
   "metadata": {},
   "source": [
    "### 2. Deciding on the number of tasks\n",
    "\n",
    "It's a tricky thing to decide how to divide up our tasks.  Essentially, we want each of our tasks to provide user value.  \n",
    "\n",
    "So just pulling down the data provides value, as does extracting it, as does writing to the CSV.\n",
    "\n",
    "* Why not just have one giant task?\n",
    "\n",
    "Why don't we just put all of our code inside of a single task?  Won't that make things easier?  Well remember that we're going to schedule runs of this workflow, so when something goes wrong we want to be able to debug it.  By splitting our workflow into discrete tasks, prefect will tell us which one of these tasks broke, and we can better debug just that simpler task.\n",
    "\n",
    "We'll also see that prefect can retry tasks that fail.  Let's say that the write_to_csv task fails.  If we have a retry, prefect will not retry the entire workflow, but just what failed.  This will save time and resources (if say we have to pay for API use)."
   ]
  }
 ],
 "metadata": {
  "kernelspec": {
   "display_name": "Python 3 (ipykernel)",
   "language": "python",
   "name": "python3"
  },
  "language_info": {
   "codemirror_mode": {
    "name": "ipython",
    "version": 3
   },
   "file_extension": ".py",
   "mimetype": "text/x-python",
   "name": "python",
   "nbconvert_exporter": "python",
   "pygments_lexer": "ipython3",
   "version": "3.9.12"
  }
 },
 "nbformat": 4,
 "nbformat_minor": 5
}
