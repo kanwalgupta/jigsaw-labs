{
 "cells": [
  {
   "cell_type": "markdown",
   "id": "ef527d59-5224-463e-bba7-94a899025b48",
   "metadata": {},
   "source": [
    "# Deploying Prefect"
   ]
  },
  {
   "cell_type": "markdown",
   "id": "82a5fa74-9ec2-461a-8fe5-2d99eb2d09cc",
   "metadata": {},
   "source": [
    "### Introduction"
   ]
  },
  {
   "cell_type": "markdown",
   "id": "ce2b7532-f4eb-46d6-8cc4-a7d762dba889",
   "metadata": {},
   "source": [
    "Now that we've explored the main concepts in prefect, it's time to see if we can get this running on AWS.  To accomplish this, the we'll need to create an EC2 machine, and perform the installations necessary to boot up prefect."
   ]
  },
  {
   "cell_type": "markdown",
   "id": "3d532bd2-144b-4ea3-a97b-d01ee53f9e7c",
   "metadata": {},
   "source": [
    "### Creating the EC2 machine"
   ]
  },
  {
   "cell_type": "markdown",
   "id": "dace8033-9729-424c-b064-2112b5e6afb3",
   "metadata": {},
   "source": [
    "Ok the first thing we should do login to AWS, and create the EC2 machine.  You will likely need to save a new pem file, which can be stored in your `~/.ssh` folder.  \n",
    "\n",
    "Once you see your EC2 machine up and running, the next step is to connect to your machine and begin to install prefect."
   ]
  },
  {
   "cell_type": "markdown",
   "id": "d82f37ab-27fd-4b2d-9031-af043a240f58",
   "metadata": {},
   "source": [
    "We can login to our EC2 machine by connecting on the `connect` button.  Upon doing so, we'll see instructions like the following."
   ]
  },
  {
   "cell_type": "markdown",
   "id": "2d54e027-ad29-4f72-b179-e27124eb0097",
   "metadata": {},
   "source": [
    "<img src=\"./connect-to-instance.png\">"
   ]
  },
  {
   "cell_type": "markdown",
   "id": "7cc7720f-f6e7-4f74-ada7-78814bb8b108",
   "metadata": {},
   "source": [
    "> So you'll need to cd into the ssh folder, and make sure to run the `chmod 400` command on the pem file.  Then issue the `ssh` command to login to the machine."
   ]
  },
  {
   "cell_type": "markdown",
   "id": "9bb7c368-7731-4f0d-b20f-437ca922ddbd",
   "metadata": {},
   "source": [
    "### Installing Prefect"
   ]
  },
  {
   "cell_type": "markdown",
   "id": "6d362dba-444f-4d58-832b-473a6423e2e3",
   "metadata": {},
   "source": [
    "Once we are connected to our machine, we can take the steps necessary to install prefect.\n",
    "\n",
    "1. Clone in our git repository"
   ]
  },
  {
   "cell_type": "markdown",
   "id": "64f377af-1599-4d42-a24a-39378b6334f3",
   "metadata": {},
   "source": [
    "```bash\n",
    "sudo yum update -y\n",
    "sudo yum install git -y\n",
    "git clone https://github.com/data-engineering-jigsaw/prefect-deployments-code.git\n",
    "```"
   ]
  },
  {
   "cell_type": "markdown",
   "id": "90db1398-6452-4998-8c7e-616d778fb93e",
   "metadata": {},
   "source": [
    "2. Get setup with pip, and install prefect\n",
    "\n",
    "```bash\n",
    "sudo yum install python3 -y\n",
    "curl -O https://bootstrap.pypa.io/get-pip.py\n",
    "python3 get-pip.py --user\n",
    "```"
   ]
  },
  {
   "cell_type": "markdown",
   "id": "f75d923d-d69b-42d8-bc24-43ddf5efe27d",
   "metadata": {},
   "source": [
    "At this point we can install prefect with the following:"
   ]
  },
  {
   "cell_type": "markdown",
   "id": "c246a277-de2f-4806-8ffb-c4a6097d02f0",
   "metadata": {},
   "source": [
    "```bash\n",
    "pip3 install prefect\n",
    "````"
   ]
  },
  {
   "cell_type": "markdown",
   "id": "3da4b421-e54a-484d-82d0-c9556a8e7ee4",
   "metadata": {},
   "source": [
    "4. Connect prefect"
   ]
  },
  {
   "cell_type": "markdown",
   "id": "c107c0c9-9256-4ba0-91c8-2739bace07dd",
   "metadata": {},
   "source": [
    "And we'll want to connect prefect to our prefect cloud account."
   ]
  },
  {
   "cell_type": "markdown",
   "id": "d87a9d19-ee6c-4343-a243-5fb1ac2856bd",
   "metadata": {},
   "source": [
    "```python\n",
    "prefect auth login --key YOUR_API_KEY\n",
    "```"
   ]
  },
  {
   "cell_type": "markdown",
   "id": "533ae75e-f44c-4cbc-ad0e-9b61af00b4d2",
   "metadata": {},
   "source": [
    "> Remember that to find your API key, you'll want to login to prefect cloud, and then click on your profile in the bottom left, followed by API key."
   ]
  },
  {
   "cell_type": "markdown",
   "id": "7899c43a-4f83-482c-bb80-4c2ab0e9b77b",
   "metadata": {},
   "source": [
    "Ok, the prefect runnning on our EC2 should now be connect to our prefect account.  Let's try it out."
   ]
  },
  {
   "cell_type": "markdown",
   "id": "38d7d018-72ea-4170-9edc-15c58bba4af4",
   "metadata": {},
   "source": [
    "Run the flow by moving into the `prefect-deployments-code` folder, and then running the `index.py` file.  We should see the flow run successfully deployed."
   ]
  },
  {
   "cell_type": "markdown",
   "id": "c1d57977-3948-4110-a637-6b6ef2d0aa18",
   "metadata": {},
   "source": [
    "### Allocating a Worker Pool"
   ]
  },
  {
   "cell_type": "markdown",
   "id": "8cdbfb3f-f09f-41de-8e89-d49447563fd4",
   "metadata": {},
   "source": [
    "And we'll need to start the pool in the background."
   ]
  },
  {
   "cell_type": "markdown",
   "id": "cb3d65d4-41e5-414b-b122-73035eb79514",
   "metadata": {},
   "source": [
    "```bash\n",
    "prefect agent start -p 'default-agent-pool'\n",
    "```"
   ]
  },
  {
   "cell_type": "code",
   "execution_count": null,
   "id": "31669472-ff0f-4d6f-87c1-fc5d78390d18",
   "metadata": {},
   "outputs": [],
   "source": []
  }
 ],
 "metadata": {
  "kernelspec": {
   "display_name": "Python 3 (ipykernel)",
   "language": "python",
   "name": "python3"
  },
  "language_info": {
   "codemirror_mode": {
    "name": "ipython",
    "version": 3
   },
   "file_extension": ".py",
   "mimetype": "text/x-python",
   "name": "python",
   "nbconvert_exporter": "python",
   "pygments_lexer": "ipython3",
   "version": "3.9.12"
  }
 },
 "nbformat": 4,
 "nbformat_minor": 5
}
