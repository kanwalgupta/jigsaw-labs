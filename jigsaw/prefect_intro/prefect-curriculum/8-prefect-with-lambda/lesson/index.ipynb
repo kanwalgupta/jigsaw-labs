{
 "cells": [
  {
   "cell_type": "markdown",
   "id": "a200333b-c1a4-446a-b2a3-3bd4bf8e4d16",
   "metadata": {},
   "source": [
    "# Prefect With Lambda"
   ]
  },
  {
   "cell_type": "markdown",
   "id": "7b433ba5-a927-43d6-a12c-a9f59846f108",
   "metadata": {},
   "source": [
    "### Resources\n",
    "\n",
    "[Prefect with Lambda and Snowflake](https://www.dataknowsall.com/prefectintro.html)"
   ]
  },
  {
   "cell_type": "code",
   "execution_count": null,
   "id": "6a93a3d5-4f9b-4ddc-b383-6a822d426e7d",
   "metadata": {},
   "outputs": [],
   "source": []
  }
 ],
 "metadata": {
  "kernelspec": {
   "display_name": "Python 3 (ipykernel)",
   "language": "python",
   "name": "python3"
  },
  "language_info": {
   "codemirror_mode": {
    "name": "ipython",
    "version": 3
   },
   "file_extension": ".py",
   "mimetype": "text/x-python",
   "name": "python",
   "nbconvert_exporter": "python",
   "pygments_lexer": "ipython3",
   "version": "3.10.11"
  }
 },
 "nbformat": 4,
 "nbformat_minor": 5
}
