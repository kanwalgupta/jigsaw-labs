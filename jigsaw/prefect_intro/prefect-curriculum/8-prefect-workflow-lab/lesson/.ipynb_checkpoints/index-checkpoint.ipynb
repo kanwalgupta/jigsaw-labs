{
 "cells": [
  {
   "cell_type": "markdown",
   "id": "180e47ec-924e-465d-939e-382ed15fa0ae",
   "metadata": {},
   "source": [
    "# Prefect Workflow Lab"
   ]
  },
  {
   "cell_type": "markdown",
   "id": "31f88758-b584-431c-8345-ec49d4f45c48",
   "metadata": {},
   "source": [
    "### Introduction"
   ]
  },
  {
   "cell_type": "markdown",
   "id": "3b32db58-3264-401b-930c-deedd80e6826",
   "metadata": {},
   "source": [
    "In this lesson, we'll work with building a workflow in prefect.  We'll do so by pulling used car info from craigslist, and then loading this data into a CSV file."
   ]
  },
  {
   "cell_type": "markdown",
   "id": "daaf7dec-5661-4c2d-a9b5-ee10377f01e6",
   "metadata": {},
   "source": [
    "### Our Use Case"
   ]
  },
  {
   "cell_type": "markdown",
   "id": "7c13b6e5-f0c6-4526-8cd8-ef07bbd21263",
   "metadata": {},
   "source": [
    "There are multiple reasons why we may want to do this.  One reason is simple arbitrage -- we can purchase below market cars and then sell them to someone willing to pay more.\n",
    "\n",
    "Or perhaps we simply want to alert our users to when a below market car comes onto market. \n",
    "\n",
    "> We could use the [Kelley Bluebook API](http://developer.kbb.com/#!/idws/99-Swagger) as a way to compare  the expected price vs the price listed on craigslist."
   ]
  },
  {
   "cell_type": "markdown",
   "id": "f30b534f-c87f-4036-bba5-40b3006f2690",
   "metadata": {},
   "source": [
    "### Pulling the data"
   ]
  },
  {
   "cell_type": "markdown",
   "id": "328eebc2-10da-477a-a2f4-3bf848b2c5e7",
   "metadata": {},
   "source": [
    "So how can we get this data?  Well one way may be to write a scraper using beautiful soup.  And we could save some time, by copying a snippet of the HTML we want to scrape from the [for sale cars page](https://sandiego.craigslist.org/search/cta#search=1~list~0~0).\n",
    "\n",
    "> Below we click inspect element to pull up the google developer console, and then identify a relevant `<li>` element indicating a car listing."
   ]
  },
  {
   "cell_type": "markdown",
   "id": "df06e80e-8ed8-4963-8bfc-2d164bda491d",
   "metadata": {},
   "source": [
    "<img src=\"./edit-html.png\" width=\"80%\">"
   ]
  },
  {
   "cell_type": "markdown",
   "id": "67280bb8-9501-436e-bd03-b543996a7ac7",
   "metadata": {},
   "source": [
    "By clicking Edit as HTML, we can highlight the relevant HTML, and copy it.  Then we can ask chatgpt to pull out the relevant data for us.  "
   ]
  },
  {
   "cell_type": "markdown",
   "id": "75e01b55-958b-4919-9506-9c7b7fcba0e2",
   "metadata": {},
   "source": [
    "```md\n",
    "Write a scraper using beautiful soup extract the metadata and title of each list element from the following html: <ol><li data-pid=\"7664884196\" class=\"cl-search-result cl-search-view-mode-list\" title=\"** 2015 Jeep Grand Cherokee  ***NORTHPORT MOTORS***\"><div class=\"result-node-wide\"><button type=\"button\" tabindex=\"0\" class=\"bd-button cl-favorite-button icon-only\" title=\"add to favorites list\">\n",
    "```"
   ]
  },
  {
   "cell_type": "markdown",
   "id": "27877af7-ccbc-4ee8-8798-afb27315dcc2",
   "metadata": {},
   "source": [
    "Chatgpt does a good job. But an even better approach is to see if someone has written a craigslist scraper for us."
   ]
  },
  {
   "cell_type": "markdown",
   "id": "84a9e730-2de8-413a-aa74-d0814df60c83",
   "metadata": {},
   "source": [
    "### The Python Craigslist Scraper"
   ]
  },
  {
   "cell_type": "markdown",
   "id": "0fd3153c-101a-4407-b48a-489c47f17a81",
   "metadata": {},
   "source": [
    "Ok, [they have](https://github.com/juliomalegria/python-craigslist).  There are multiple craigslist scrapers, but this one by Julio has the most number of stars, and looks fairly easy to use."
   ]
  },
  {
   "cell_type": "markdown",
   "id": "c6702c33-29e2-4ad7-a6f3-0cbaf8a23efd",
   "metadata": {},
   "source": [
    "> <img src=\"./stars.png\" width=\"60%\">"
   ]
  },
  {
   "cell_type": "markdown",
   "id": "3faec9d3-f67c-4c61-bf81-68b661c35f8b",
   "metadata": {},
   "source": [
    "Looking through the examples in the readme, we can search for cars in an area with something like the following."
   ]
  },
  {
   "cell_type": "markdown",
   "id": "d49d6629-3a20-4a0f-9de1-07704f69732c",
   "metadata": {},
   "source": [
    "```python\n",
    "import pycraigslist\n",
    "\n",
    "autos = pycraigslist.forsale.cta(site=\"sfbay\", area=\"eby\", query=\"Mazda Miata\")\n",
    "for auto in all_autos.search_detail(include_body=True):\n",
    "    print(auto)\n",
    "```"
   ]
  },
  {
   "cell_type": "markdown",
   "id": "694f9c1e-8d01-4e84-865f-15fb5ef774e2",
   "metadata": {},
   "source": [
    "Ok, so this is what we want to do. "
   ]
  },
  {
   "cell_type": "code",
   "execution_count": null,
   "id": "f4fd5db3-c2af-434a-8254-a21de95d3e03",
   "metadata": {},
   "outputs": [],
   "source": []
  }
 ],
 "metadata": {
  "kernelspec": {
   "display_name": "Python 3 (ipykernel)",
   "language": "python",
   "name": "python3"
  },
  "language_info": {
   "codemirror_mode": {
    "name": "ipython",
    "version": 3
   },
   "file_extension": ".py",
   "mimetype": "text/x-python",
   "name": "python",
   "nbconvert_exporter": "python",
   "pygments_lexer": "ipython3",
   "version": "3.9.12"
  }
 },
 "nbformat": 4,
 "nbformat_minor": 5
}
