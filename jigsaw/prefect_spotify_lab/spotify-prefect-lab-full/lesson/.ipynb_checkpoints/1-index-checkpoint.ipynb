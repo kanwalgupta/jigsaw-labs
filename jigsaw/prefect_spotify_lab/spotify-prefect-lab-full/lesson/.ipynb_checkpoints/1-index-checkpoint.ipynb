{
 "cells": [
  {
   "cell_type": "markdown",
   "id": "434b5d7a-47cb-4e15-9ba9-bf88fa8997d0",
   "metadata": {},
   "source": [
    "# Spotify Workflow Lab"
   ]
  },
  {
   "cell_type": "markdown",
   "id": "6f3e72c3-3c98-4f8a-9056-6bc4841e5be0",
   "metadata": {},
   "source": [
    "### Introduction"
   ]
  },
  {
   "cell_type": "markdown",
   "id": "a21ce49f-8073-47bf-9e97-7745d4bd4d50",
   "metadata": {},
   "source": [
    "In this lesson, we'll practice setting up a prefect workflow by making use of the Spotify API.  Let's get started."
   ]
  },
  {
   "cell_type": "markdown",
   "id": "5aa44822-28c1-4170-bcf4-d992924d8d03",
   "metadata": {},
   "source": [
    "### Signing up for Spotify"
   ]
  },
  {
   "cell_type": "markdown",
   "id": "55726652-21f9-4021-a2aa-5fd7109a7602",
   "metadata": {},
   "source": [
    "Before we get going, we'll need to get a `client_id` and `client_secret` from spotify.  The first step is to go to the Spotify dashboard, which we can do by clicking [here](https://developer.spotify.com/dashboard)."
   ]
  },
  {
   "cell_type": "markdown",
   "id": "720caca3-a9c0-43ec-8999-8f6ea95ab90b",
   "metadata": {},
   "source": [
    "In creating a new app, it will ask you to fill in a name, and a callback url.  We won't be using the callback url, so you can just provide `jigsawlabs.io`, or any other website you prefer.\n",
    "\n",
    "> **What's it for?** In the case that an end user was providing their spotify login credentials to our webpage, after logging in, spotify would redirect the user to that new page.  "
   ]
  },
  {
   "cell_type": "markdown",
   "id": "327e7650-785f-42a6-b55f-7ed9fbd41b16",
   "metadata": {},
   "source": [
    "When the new app is created, you can click on that app, and then click on Settings in the top right."
   ]
  },
  {
   "cell_type": "markdown",
   "id": "9d0de3c1-4a4a-4f70-b3f4-1b3541fae9b8",
   "metadata": {},
   "source": [
    "<img src=\"./app-settings.png\">"
   ]
  },
  {
   "cell_type": "markdown",
   "id": "55471479-00bf-4f14-b16b-e79748091c9c",
   "metadata": {},
   "source": [
    "From there, we'll see the client_id, and can expand the client secret."
   ]
  },
  {
   "cell_type": "markdown",
   "id": "c8f04e3f-19b8-42bb-9cce-1760ebf4a1e1",
   "metadata": {},
   "source": [
    "<img src=\"./client-id.png\">"
   ]
  },
  {
   "cell_type": "markdown",
   "id": "a931f0f9-d3ab-494e-b35f-f2889756044b",
   "metadata": {},
   "source": [
    "> You'll need to click on `View client secret` to view the secret."
   ]
  },
  {
   "cell_type": "markdown",
   "id": "b1d2f97e-dc35-4ac1-be4a-27c1bf5ef14a",
   "metadata": {
    "tags": []
   },
   "source": [
    "### Introducing the Spotipy Library"
   ]
  },
  {
   "cell_type": "markdown",
   "id": "1ba41b12-a6b4-4e76-81e4-65f049f35c21",
   "metadata": {},
   "source": [
    "Ok, so to connect to the Spotify API, we'll be using the `Spotipy` library.  You can see that we specified that library in the `requirements.txt` file. "
   ]
  },
  {
   "cell_type": "markdown",
   "id": "6c231ccc-6ce1-40c9-be51-9a10e262cc13",
   "metadata": {},
   "source": [
    "So let's first create our Python environment with the following. \n",
    "\n",
    "* `python -m venv ./venv`\n",
    "* `source ./venv bin/activate`\n",
    "\n",
    "And then run the following to install the required dependencies.\n",
    "\n",
    "`pip install -r requirements.txt`"
   ]
  },
  {
   "cell_type": "markdown",
   "id": "67c618a4-ac06-4e9d-aad5-450317bd15e3",
   "metadata": {},
   "source": [
    "And we make use of the library with something like the following."
   ]
  },
  {
   "cell_type": "markdown",
   "id": "bb575042-fd73-4a37-9bf2-1063d2591c45",
   "metadata": {},
   "source": [
    "```python\n",
    "credentials_manager = SpotifyClientCredentials(client_id=client_id, client_secret = client_secret)\n",
    "client = spotipy.Spotify(client_credentials_manager=credentials_manager)\n",
    "```"
   ]
  },
  {
   "cell_type": "markdown",
   "id": "b052d61b-2df7-483a-8fa2-7e036cfd3697",
   "metadata": {},
   "source": [
    "So you can see that the `client_id` and `client_secret` are passed into the `SpotifyClientCredentials`.  "
   ]
  },
  {
   "cell_type": "markdown",
   "id": "f587e66a-4ee7-4ab1-ac2c-e6d1c729bd3f",
   "metadata": {},
   "source": [
    "And from there, we can retrieve items like so.\n",
    "\n",
    "```python\n",
    "client.playlist_items(playlist_id)\n",
    "```\n",
    "\n",
    "> You can learn more about the library [here](https://github.com/spotipy-dev/spotipy)."
   ]
  },
  {
   "cell_type": "markdown",
   "id": "aa1a7377-f35c-4973-8ec4-7d98ff55d401",
   "metadata": {},
   "source": [
    "### Looking at our codebase"
   ]
  },
  {
   "cell_type": "markdown",
   "id": "90106d1d-316a-4f83-b88f-8f4b95e1aebb",
   "metadata": {},
   "source": [
    "So now it's time for you to connect your `client_id` and `client_secret` to the existing codebase."
   ]
  },
  {
   "cell_type": "markdown",
   "id": "eb5cab85-e6e4-4bbd-9ec9-b668870dd46b",
   "metadata": {},
   "source": [
    "If you look at the codebase, inside the `spotify_extractor` folder, you'll see that there is already a `.env` file, and a `settings.py` file that imports from the `.env` file.\n",
    "\n",
    "Then we import the variables in `settings.py` file into the `spotify_client` file."
   ]
  },
  {
   "cell_type": "markdown",
   "id": "d6ff9b58-1cf1-4e77-973f-87a4e59eb5df",
   "metadata": {},
   "source": [
    "### Pulling our data"
   ]
  },
  {
   "cell_type": "markdown",
   "id": "3d94c48f-c013-421d-8d14-d18c32bf632a",
   "metadata": {},
   "source": [
    "* Building the client"
   ]
  },
  {
   "cell_type": "markdown",
   "id": "b9c904e6-e842-4e78-9056-94382a280c30",
   "metadata": {},
   "source": [
    "We can begin by setting up our client.  You can create the client in the `spotify_client.py` file, where we connect to the API using the SpotifyCredentials manager.\n",
    "\n",
    "If you look at the `build_client` function, you can see how we connect to the API."
   ]
  },
  {
   "cell_type": "markdown",
   "id": "e5d4f6fd-5370-4e66-8a0e-03ea81eb8c82",
   "metadata": {},
   "source": [
    "#### Listings Adapter"
   ]
  },
  {
   "cell_type": "markdown",
   "id": "71ef651f-55db-4860-93d1-67244a18054f",
   "metadata": {},
   "source": [
    "From there we can move onto the `listings_adapter.py` file.  \n",
    "\n",
    "> Confirm the following functions work by running the corresponding tests."
   ]
  },
  {
   "cell_type": "markdown",
   "id": "0838d4df-79a6-4ccd-8774-a0fd63c64f8c",
   "metadata": {},
   "source": [
    "* `playlist_tracks(playlist_id)`"
   ]
  },
  {
   "cell_type": "markdown",
   "id": "29b7cb61-fd09-4282-b812-4984fc138357",
   "metadata": {},
   "source": [
    "Given a playlist id (eg. `playlist_id = \"37i9dQZEVXbLRQDuF5jeBp\"`), this returns a list of dictionaries representing the tracks on the playlist.\n",
    "\n",
    "\n",
    "> In building this function, use the `client.playlist_items(playlist_id)` function to retrieve playlist tracks. "
   ]
  },
  {
   "cell_type": "markdown",
   "id": "fae772fa-cab5-4dde-8a09-027805a5dbbb",
   "metadata": {},
   "source": [
    "The return value from the function should be a list of dictionaries.  And from there, we'll further clean the list of dictionaries."
   ]
  },
  {
   "cell_type": "markdown",
   "id": "3a3cfc80-42b8-470d-aa38-faec88b61bed",
   "metadata": {},
   "source": [
    "* `extract_tracks(tracks, playlist_id)`\n",
    "    * This takes the `tracks` from the previous function, along with the `playlist_id` and returns a subset of information.  "
   ]
  },
  {
   "cell_type": "markdown",
   "id": "f9edccd9-1ef0-4be3-a13c-322455332f6d",
   "metadata": {},
   "source": [
    "* If we look at the info returned from the spotipy api, we'll see that each playlist record has information about the track itself (track_id, name, etc), the track's album (album name, total tracks), and the artist (artist name).\n",
    "\n",
    "* Instead of pulling down all of this information, let's just create a list of dictionaries that will have:\n",
    "\n",
    "* `playlist_id`,\n",
    "* `current_date`,\n",
    "* `track_id`\n",
    "* `ranking`"
   ]
  },
  {
   "cell_type": "markdown",
   "id": "f4153fd2-ac14-49c6-bb42-804d002f5c66",
   "metadata": {},
   "source": [
    "> **Why just those attributes?** The idea is to just pull the information related to a `top_chart_listing`.  And then, we can separately retrieve additional information related to the track by reading through all of the `track_ids` and going to the tracks endpoint to pull down the information, and create a csv of tracks.  And we can do the same for the artist and album.\n",
    "\n",
    "> This will reduce us duplicating this information by repeatedly pulling down the track name every time it is a top track."
   ]
  },
  {
   "cell_type": "markdown",
   "id": "982c6c63-8f6e-4dd9-a6c1-e8b1eebc5ae0",
   "metadata": {},
   "source": [
    "* `playlist_id`: \"37i9dQZEVXbLRQDuF5jeBp\"\n",
    "* `current_date`: Generate this from Python\n",
    "* `track_id`: \n",
    "* `ranking`:  This is generated from the `index` in the list of tracks"
   ]
  },
  {
   "cell_type": "markdown",
   "id": "f2edc555-6826-4dc5-af1b-addbea914c4a",
   "metadata": {},
   "source": [
    "* `write_to_csv`\n",
    "    * This function is provided for you.  It takes the extracted_tracks, creates a dataframe from them, nad writes them to a csv file."
   ]
  },
  {
   "cell_type": "markdown",
   "id": "fe1c8d43-33da-4d34-98a8-3c2e7a1c5e55",
   "metadata": {},
   "source": [
    "### Moving to Prefect"
   ]
  },
  {
   "cell_type": "markdown",
   "id": "fee66da0-bfed-4d54-9caa-084b6487aab8",
   "metadata": {},
   "source": [
    "Ok, so now that we got this code working without prefect, all we need to do is use prefect to trigger these functions.\n",
    "\n",
    "Add the prefect code to the `spotify_extractor` file.  The file has placeholders for three tasks, and one flow.  We even filled in the first task for you.\n",
    "\n",
    "```python\n",
    "@task\n",
    "def get_playlist_tracks(playlist_id):\n",
    "    return adapter.get_playlist_tracks(playlist_id)\n",
    "```\n",
    "\n",
    "> As you can see, we in the body of the first function, we are explicit about calling a function from the `adapter` module, with `adapter.get_playlist_tracks`.  This is because we want to clarify that this function is defined in the adapter file -- but we want the prefect task to have the same name."
   ]
  },
  {
   "cell_type": "markdown",
   "id": "e6834ac0-e072-4a19-850f-f5e6863d1e70",
   "metadata": {},
   "source": [
    "Fill in code for the following tasks:\n",
    "    \n",
    "```python\n",
    "@task\n",
    "def extract_tracks_info(tracks, playlist_id):\n",
    "```"
   ]
  },
  {
   "cell_type": "markdown",
   "id": "fc5033b6-4275-4c12-a529-d5c9a375b168",
   "metadata": {},
   "source": [
    "```python\n",
    "@task\n",
    "def write_to_csv(tracks)\n",
    "  # fill in code\n",
    "```"
   ]
  },
  {
   "cell_type": "markdown",
   "id": "e33fa2db-baab-4ea5-aa57-f41677061cfe",
   "metadata": {},
   "source": [
    "```python\n",
    "@flow\n",
    "def extract_and_write():\n",
    "    playlist_id = \"37i9dQZEVXbLRQDuF5jeBp\"\n",
    "    playlist_tracks = get_playlist_tracks(playlist_id)\n",
    "    # fill in remaining code\n",
    "```"
   ]
  },
  {
   "cell_type": "markdown",
   "id": "d3e80925-6196-4011-9eff-287a1b0d24d4",
   "metadata": {},
   "source": [
    "Once the code is filled in, make sure there is nothing in the `./data` folder and then test out the code.  Remember that we can run our prefect flow simply by running the python script it's defined in.\n",
    "\n",
    "You can confirm that the code worked by seeing that a new file is created in the `./data` folder."
   ]
  },
  {
   "cell_type": "markdown",
   "id": "557fd2c8-9b1e-4c9a-8189-73a644b77218",
   "metadata": {},
   "source": [
    "### Viewing the server"
   ]
  },
  {
   "cell_type": "markdown",
   "id": "963581d7-b0c3-4aa1-a1db-e219b8a08504",
   "metadata": {},
   "source": [
    "Ok, so now let's see our flow run history.  You can view your flow run with a call to `prefect server start`.\n",
    "\n",
    "Or if you have already connected your computer to prefect, you can just login to prefect.io.\n",
    "\n",
    "> If you have not logged in, you can do so now, by typing `prefect cloud login` into your terminal."
   ]
  },
  {
   "cell_type": "markdown",
   "id": "d89d9c50-0146-42eb-a217-b9861adf5d49",
   "metadata": {},
   "source": [
    "Ok, once you login, you should see the `extract-and-write` flow in your dashboard."
   ]
  },
  {
   "cell_type": "markdown",
   "id": "dad30007-511d-4993-be35-3b2c053b9079",
   "metadata": {},
   "source": [
    "<img src=\"./flows-dashboard.png\">"
   ]
  },
  {
   "cell_type": "markdown",
   "id": "39fecf55-727c-4e43-8d25-16284a647926",
   "metadata": {},
   "source": [
    "And if you click on the flow, you can see the various flow runs.  And if you click on the flow run, you can see the individual task runs."
   ]
  },
  {
   "cell_type": "markdown",
   "id": "f5df3370-41b3-40c8-8239-5b62b93cd6ee",
   "metadata": {},
   "source": [
    "### Summary"
   ]
  },
  {
   "cell_type": "markdown",
   "id": "b39acd9e-4328-43ef-ace7-c3005b99a9ed",
   "metadata": {},
   "source": [
    "In this lesson we developed a workflow in prefect.  Notice that our prefect code was relatively thin.  Instead, we just had each prefect task call a single function in our codebase.\n",
    "\n",
    "In the discussion that follows we'll talk about why we did it this way.  But you should come up with your own reasons.  Try to answer the following questions.\n",
    "\n",
    "1. What are the benefits of isolating our prefect code from the rest of our codebase?\n",
    "\n",
    "2. What are some things to consider when deciding how many tasks to break up our flow into?  Why not just have one giant task?"
   ]
  }
 ],
 "metadata": {
  "kernelspec": {
   "display_name": "Python 3 (ipykernel)",
   "language": "python",
   "name": "python3"
  },
  "language_info": {
   "codemirror_mode": {
    "name": "ipython",
    "version": 3
   },
   "file_extension": ".py",
   "mimetype": "text/x-python",
   "name": "python",
   "nbconvert_exporter": "python",
   "pygments_lexer": "ipython3",
   "version": "3.10.13"
  }
 },
 "nbformat": 4,
 "nbformat_minor": 5
}
