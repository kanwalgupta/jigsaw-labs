{
 "cells": [
  {
   "cell_type": "markdown",
   "id": "4b975534-11c6-4b51-9593-2d5475e21afc",
   "metadata": {},
   "source": [
    "# Workers and Queues Lab"
   ]
  },
  {
   "cell_type": "markdown",
   "id": "5b121b2a-d523-44ad-92de-1e02cc7ece8e",
   "metadata": {},
   "source": [
    "### Introduction"
   ]
  },
  {
   "cell_type": "markdown",
   "id": "899f21db-2df8-4fa8-8ee4-bc1a5641e64a",
   "metadata": {},
   "source": [
    "In this lesson, we'll work with prefect deployments to schedule requests to the Spotify API.  Let's get started."
   ]
  },
  {
   "cell_type": "markdown",
   "id": "5e64a7b4-ed1a-443d-9744-46d1131ef458",
   "metadata": {},
   "source": [
    "### Getting set up"
   ]
  },
  {
   "cell_type": "markdown",
   "id": "59145317-050a-4097-99f4-ea64b82dd43c",
   "metadata": {},
   "source": [
    "You'll notice that we are again working with the spotify codebase from the previous lab. \n",
    "\n",
    "* Do **not** create a python environment for this lab -- it will likely mess things up.  In fact, make sure there is no python environment activated\n",
    "```bash\n",
    "    deactivate\n",
    "    conda deactivate\n",
    "```\n",
    "\n",
    "* Install the libraries in the `requirements.txt` file.\n",
    "\n",
    "* Add in your spotify API keys to the `etl/spotify_extractor/.env` file.  If you do not have spotify api keys, you can see the docs on how to create them [here](https://developer.spotify.com/documentation/web-api/tutorials/getting-started). "
   ]
  },
  {
   "cell_type": "markdown",
   "id": "1aa9c397-691e-4dbe-8f83-c6d225c3b46b",
   "metadata": {},
   "source": [
    "### Reviewing the Workflow"
   ]
  },
  {
   "cell_type": "markdown",
   "id": "7a5b9c1b-49c2-45bd-bd94-d634bb4d79bf",
   "metadata": {},
   "source": [
    "Before setting up our deployments, it makes sense to review the workflow.  Open up the `spotify_workflow.py` file, look at the related code.  "
   ]
  },
  {
   "cell_type": "markdown",
   "id": "fee48f26-f7a4-4603-9f14-fc35e87cfb0a",
   "metadata": {},
   "source": [
    "> You can also run the `spotify_workflow.py` file, and confirm that the data is loaded to postgres (there will be a new record with `sample-data` as the track each time you run it."
   ]
  },
  {
   "cell_type": "markdown",
   "id": "5afca13d-235a-42f7-b2cb-dc68c972c6dd",
   "metadata": {},
   "source": [
    "### Setting up Deployments"
   ]
  },
  {
   "cell_type": "markdown",
   "id": "c3c367f2-64c2-4dc8-a75b-00eab6852b8a",
   "metadata": {
    "tags": []
   },
   "source": [
    "Next, we can set up deployments so that we can schedule our workflow.  "
   ]
  },
  {
   "cell_type": "markdown",
   "id": "fb578aa0-a05d-4cc6-9fe3-23bb8211cddd",
   "metadata": {},
   "source": [
    "The entrypoint to our prefect workflow is the `extract_and_write` function in the `spotify_workflow.py` file.\n",
    "\n",
    "* `extract_and_write(playlist_id)`"
   ]
  },
  {
   "cell_type": "markdown",
   "id": "b82a68bd-fba4-48dd-bb14-44e7034993b6",
   "metadata": {},
   "source": [
    "Next let's turn workflow into a deployment.  Use the `serve` method to:\n",
    "\n",
    "* name the deployment `get-songs-deployment`\n",
    "* pass through the necessary parameters to call the workflow\n",
    "\n",
    "Then re-run the `spotify_workflow.py` file."
   ]
  },
  {
   "cell_type": "markdown",
   "id": "a3ea0cab-f8dd-42f5-b317-c6958bd450a2",
   "metadata": {},
   "source": [
    "* You can see that this created a deployment.\n",
    "\n",
    "From a new tab, run the following:\n",
    "    \n",
    "`prefect server start`\n",
    "\n",
    "And then click on deployments, where you should see the `get-songs-deployment`."
   ]
  },
  {
   "cell_type": "markdown",
   "id": "c319fd18-51ec-4f95-aef5-523c789003ad",
   "metadata": {},
   "source": [
    "<img src=\"./get-songs-deployment.png\">"
   ]
  },
  {
   "cell_type": "markdown",
   "id": "7289ce93-6394-41c7-8396-579aa9588df8",
   "metadata": {},
   "source": [
    "From there, if you click on the `get-songs-deployment`, followed by the `Runs` or `Upcoming` tabs, you can see that nothing has been run, and nothing is scheduled.  \n",
    "\n",
    "Let's change that."
   ]
  },
  {
   "cell_type": "markdown",
   "id": "83a4df1d-718e-4831-a2e7-90cf256ac20e",
   "metadata": {},
   "source": [
    "> First import both the interval schedule and the Deployment class with the following code: \n",
    "\n",
    "```python\n",
    "from prefect.server.schemas.schedules import IntervalSchedule\n",
    "from prefect.deployments.deployments import Deployment\n",
    "```"
   ]
  },
  {
   "cell_type": "markdown",
   "id": "8c187f56-5daa-412c-9521-419f757cdcee",
   "metadata": {},
   "source": [
    "Create a prefect deployment using the `Deployment.build_from_flow` method.\n",
    "\n",
    "In doing that you'll need to set the following parameters:"
   ]
  },
  {
   "cell_type": "markdown",
   "id": "fc5594ab-a68c-45a5-b1d2-ca829f1f9f35",
   "metadata": {},
   "source": [
    "```python\n",
    "name=\"spotify_deployment\",\n",
    "flow=extract_and_write,\n",
    "version=1,\n",
    "schedule=schedule,\n",
    "is_schedule_active=True,\n",
    "work_queue_name=\"default\",\n",
    "parameters=parameters,\n",
    "entrypoint=\"./spotify_workflow.py:extract_and_write\",\n",
    "```"
   ]
  },
  {
   "cell_type": "markdown",
   "id": "62f6935a-3144-415b-a707-41262aced157",
   "metadata": {},
   "source": [
    "We'll let you assign the parameters to the appropriate Python variable.  And for the schedule, assign this to an instance of the IntervalSchedule, to be run every ten seconds.  "
   ]
  },
  {
   "cell_type": "markdown",
   "id": "8d6cdef1-e232-4f2b-a7c2-ff8a3615bf76",
   "metadata": {},
   "source": [
    "Make sure to add the Python code to apply the deployment.\n",
    "\n",
    "```python\n",
    "deployment.apply(upload=True)\n",
    "```"
   ]
  },
  {
   "cell_type": "markdown",
   "id": "d2e7fda4-7376-4dc4-9de6-5cc1e9325291",
   "metadata": {},
   "source": [
    "And then run the Python script that has this deployment to apply the deployment."
   ]
  },
  {
   "cell_type": "markdown",
   "id": "9adba37d-1f4a-4cc5-9794-0e408888b562",
   "metadata": {},
   "source": [
    "From there, you'll need to have to start up the `default-agent-pool`."
   ]
  },
  {
   "cell_type": "markdown",
   "id": "0cf2b490-0d7a-4d23-b949-e2cadb233c00",
   "metadata": {},
   "source": [
    "```bash\n",
    "prefect agent start -p 'default-agent-pool'\n",
    "```"
   ]
  },
  {
   "cell_type": "markdown",
   "id": "fe2615a6-ac4e-4d05-b47c-c609663b5d51",
   "metadata": {},
   "source": [
    "Now if you navigate to the webserver, and click on deployments you should see your new `spotify_deployment`.  And from there click on the deployment followed by `runs`, and you should see some successful runs."
   ]
  },
  {
   "cell_type": "markdown",
   "id": "3f1bef45-6325-4346-9407-3a0555beff90",
   "metadata": {},
   "source": [
    "<img src=\"./success.png\">"
   ]
  },
  {
   "cell_type": "markdown",
   "id": "4f47ed95-1a93-43fc-a9f4-dd0994e19851",
   "metadata": {
    "tags": []
   },
   "source": [
    "### Resources\n",
    "\n",
    "[Jeff Hale - Deployments](https://medium.com/the-prefect-blog/deploy-prefect-pipelines-with-python-perfect-68c944a3a89f)"
   ]
  },
  {
   "cell_type": "markdown",
   "id": "fc250cab-da27-4576-8856-d9c5a84ae9d0",
   "metadata": {},
   "source": [
    "[Kevin Kho](https://medium.com/the-prefect-blog/the-simple-guide-to-productionizing-data-workflows-with-docker-31a5aae67c0a)"
   ]
  },
  {
   "cell_type": "markdown",
   "id": "1d0a4e9f-246b-44d1-907f-bc4c527594e0",
   "metadata": {},
   "source": [
    "[Creating a Deployment](https://discourse.prefect.io/t/error-when-creating-a-deployment-with-the-cli-modulenotfound/2426/4)"
   ]
  },
  {
   "cell_type": "markdown",
   "id": "bd874f9a-9f77-47db-8d65-cf36d0af851c",
   "metadata": {},
   "source": [
    "[Sample deployment](https://github.com/PrefectHQ/prefect/issues/8710)"
   ]
  }
 ],
 "metadata": {
  "kernelspec": {
   "display_name": "Python 3 (ipykernel)",
   "language": "python",
   "name": "python3"
  },
  "language_info": {
   "codemirror_mode": {
    "name": "ipython",
    "version": 3
   },
   "file_extension": ".py",
   "mimetype": "text/x-python",
   "name": "python",
   "nbconvert_exporter": "python",
   "pygments_lexer": "ipython3",
   "version": "3.10.13"
  }
 },
 "nbformat": 4,
 "nbformat_minor": 5
}
